{
  "nbformat": 4,
  "nbformat_minor": 0,
  "metadata": {
    "colab": {
      "provenance": []
    },
    "kernelspec": {
      "name": "python3",
      "display_name": "Python 3"
    },
    "language_info": {
      "name": "python"
    }
  },
  "cells": [
    {
      "cell_type": "code",
      "source": [
        "!pip install bpemb"
      ],
      "metadata": {
        "colab": {
          "base_uri": "https://localhost:8080/"
        },
        "id": "knDCG9uUodNq",
        "outputId": "6d3cdc04-9f0a-4904-b5ab-fab04475c1a2"
      },
      "execution_count": 1,
      "outputs": [
        {
          "output_type": "stream",
          "name": "stdout",
          "text": [
            "Collecting bpemb\n",
            "  Downloading bpemb-0.3.4-py3-none-any.whl (19 kB)\n",
            "Requirement already satisfied: gensim in /usr/local/lib/python3.10/dist-packages (from bpemb) (4.3.1)\n",
            "Requirement already satisfied: numpy in /usr/local/lib/python3.10/dist-packages (from bpemb) (1.22.4)\n",
            "Requirement already satisfied: requests in /usr/local/lib/python3.10/dist-packages (from bpemb) (2.27.1)\n",
            "Collecting sentencepiece (from bpemb)\n",
            "  Downloading sentencepiece-0.1.99-cp310-cp310-manylinux_2_17_x86_64.manylinux2014_x86_64.whl (1.3 MB)\n",
            "\u001b[2K     \u001b[90m━━━━━━━━━━━━━━━━━━━━━━━━━━━━━━━━━━━━━━━━\u001b[0m \u001b[32m1.3/1.3 MB\u001b[0m \u001b[31m6.4 MB/s\u001b[0m eta \u001b[36m0:00:00\u001b[0m\n",
            "\u001b[?25hRequirement already satisfied: tqdm in /usr/local/lib/python3.10/dist-packages (from bpemb) (4.65.0)\n",
            "Requirement already satisfied: scipy>=1.7.0 in /usr/local/lib/python3.10/dist-packages (from gensim->bpemb) (1.10.1)\n",
            "Requirement already satisfied: smart-open>=1.8.1 in /usr/local/lib/python3.10/dist-packages (from gensim->bpemb) (6.3.0)\n",
            "Requirement already satisfied: urllib3<1.27,>=1.21.1 in /usr/local/lib/python3.10/dist-packages (from requests->bpemb) (1.26.16)\n",
            "Requirement already satisfied: certifi>=2017.4.17 in /usr/local/lib/python3.10/dist-packages (from requests->bpemb) (2023.7.22)\n",
            "Requirement already satisfied: charset-normalizer~=2.0.0 in /usr/local/lib/python3.10/dist-packages (from requests->bpemb) (2.0.12)\n",
            "Requirement already satisfied: idna<4,>=2.5 in /usr/local/lib/python3.10/dist-packages (from requests->bpemb) (3.4)\n",
            "Installing collected packages: sentencepiece, bpemb\n",
            "Successfully installed bpemb-0.3.4 sentencepiece-0.1.99\n"
          ]
        }
      ]
    },
    {
      "cell_type": "code",
      "execution_count": 2,
      "metadata": {
        "colab": {
          "base_uri": "https://localhost:8080/"
        },
        "id": "Pbtu5QH8iUZL",
        "outputId": "6e6514c0-8466-4658-fc73-61fcf39cc208"
      },
      "outputs": [
        {
          "output_type": "stream",
          "name": "stdout",
          "text": [
            "Mounted at /content/drive\n"
          ]
        }
      ],
      "source": [
        "from google.colab import drive\n",
        "drive.mount('/content/drive')"
      ]
    },
    {
      "cell_type": "code",
      "source": [
        "import json\n",
        "with open('/content/drive/MyDrive/ar.train.json', 'r') as file:\n",
        "    df = json.load(file)"
      ],
      "metadata": {
        "id": "nS3acagrjs_6"
      },
      "execution_count": 44,
      "outputs": []
    },
    {
      "cell_type": "code",
      "source": [
        "len(df)\n"
      ],
      "metadata": {
        "colab": {
          "base_uri": "https://localhost:8080/"
        },
        "id": "7V3c3j_b6f8O",
        "outputId": "0eeb0982-c7c1-4c61-a269-8994b8e0122b"
      },
      "execution_count": 5,
      "outputs": [
        {
          "output_type": "execute_result",
          "data": {
            "text/plain": [
              "45200"
            ]
          },
          "metadata": {},
          "execution_count": 5
        }
      ]
    },
    {
      "cell_type": "code",
      "source": [
        "meanings = []\n",
        "words = []\n",
        "emb_sgns = []\n",
        "emb_w2v = []\n",
        "for js in df:\n",
        "  meanings.append(js[\"gloss\"])\n",
        "  words.append(js[\"word\"])\n",
        "  emb_sgns.append(js[\"sgns\"])\n",
        "  emb_w2v.append(js[\"sgns\"])"
      ],
      "metadata": {
        "id": "q602KNnA60Rh"
      },
      "execution_count": 45,
      "outputs": []
    },
    {
      "cell_type": "code",
      "source": [
        "# class FFN(nn.Module):\n",
        "#     def __init__(self, input_size, hidden_size, output_size):\n",
        "#         super(FFN, self).__init__()\n",
        "#         self.fc1 = nn.Linear(input_size, hidden_size)\n",
        "#         self.relu = nn.ReLU()\n",
        "#         self.fc2 = nn.Linear(hidden_size, output_size)\n",
        "\n",
        "#     def forward(self, x):\n",
        "#         x = self.fc1(x)\n",
        "#         x = self.relu(x)\n",
        "#         x = self.fc2(x)\n",
        "#         return x\n",
        "#         device = \"cuda\""
      ],
      "metadata": {
        "id": "du8C13TS60I1"
      },
      "execution_count": 6,
      "outputs": []
    },
    {
      "cell_type": "code",
      "source": [],
      "metadata": {
        "id": "DcAMki6d60E-"
      },
      "execution_count": 7,
      "outputs": []
    },
    {
      "cell_type": "code",
      "source": [
        "import numpy as np\n",
        "from bpemb import BPEmb\n",
        "dim = 300\n",
        "V_S=10000\n",
        "bpemb = BPEmb(lang=\"ar\", dim=dim, vs=V_S)"
      ],
      "metadata": {
        "colab": {
          "base_uri": "https://localhost:8080/"
        },
        "id": "ayecnfFe7JJJ",
        "outputId": "cea7c021-4cfd-4ac8-9577-0315e44c9c75"
      },
      "execution_count": 43,
      "outputs": [
        {
          "output_type": "stream",
          "name": "stdout",
          "text": [
            "downloading https://nlp.h-its.org/bpemb/ar/ar.wiki.bpe.vs10000.d300.w2v.bin.tar.gz\n"
          ]
        },
        {
          "output_type": "stream",
          "name": "stderr",
          "text": [
            "100%|██████████| 11198290/11198290 [00:01<00:00, 11056737.64B/s]\n"
          ]
        }
      ]
    },
    {
      "cell_type": "code",
      "source": [
        "# def return_emb(defn):\n",
        "#   tokens =bpemb.encode(defn)\n",
        "#   # list of tokens rep the defenation\n",
        "#   emb = torch.zeros(100)\n",
        "#   for token in tokens:\n",
        "#     emb_tensor = bpemb.emb[token]\n",
        "#     emb += emb_tensor\n",
        "\n",
        "#   return emb/len(tokens)"
      ],
      "metadata": {
        "id": "b10oH2Co7JA1"
      },
      "execution_count": 9,
      "outputs": []
    },
    {
      "cell_type": "code",
      "source": [
        "import numpy as np"
      ],
      "metadata": {
        "id": "5R-VSxaxhQEG"
      },
      "execution_count": 27,
      "outputs": []
    },
    {
      "cell_type": "code",
      "source": [
        "def return_emb(defn):\n",
        "    tokens =bpemb.encode(defn)\n",
        "    emb = np.zeros(300)\n",
        "    count = 0\n",
        "    for token in tokens:\n",
        "        if token:\n",
        "            try:\n",
        "                emb_tensor = bpemb.emb[token]\n",
        "                emb = emb + emb_tensor\n",
        "                count += 1\n",
        "            except KeyError:\n",
        "                # handle case where token is not in vocabulary\n",
        "                pass\n",
        "    if count > 0:\n",
        "        emb = emb / count\n",
        "    return emb"
      ],
      "metadata": {
        "id": "Q9Y6sguWcvqo"
      },
      "execution_count": 46,
      "outputs": []
    },
    {
      "cell_type": "code",
      "source": [
        "emb_list = []\n",
        "\n",
        "for i in range(len(meanings)):\n",
        "    emb_m = return_emb(meanings[i])\n",
        "    emb_list.append(emb_m)\n",
        "\n",
        "\n",
        "sum_emb = sum(emb_list)"
      ],
      "metadata": {
        "id": "ExRBj6wGjDEw"
      },
      "execution_count": 47,
      "outputs": []
    },
    {
      "cell_type": "code",
      "source": [
        "emb_sgns = np.array(emb_sgns)"
      ],
      "metadata": {
        "id": "XUiBVf_xiEWM"
      },
      "execution_count": 48,
      "outputs": []
    },
    {
      "cell_type": "code",
      "source": [
        "emb_list = np.array(emb_list)"
      ],
      "metadata": {
        "id": "5J9QYLMzjbH5"
      },
      "execution_count": 49,
      "outputs": []
    },
    {
      "cell_type": "code",
      "source": [
        "from keras.models import Sequential\n",
        "from keras.layers import Dense\n",
        "\n",
        "# Define the Keras model\n",
        "model = Sequential()\n",
        "model.add(Dense(1024, input_dim=300, activation='relu'))\n",
        "model.add(Dense(256, activation='relu'))\n",
        "model.add(Dense(300, activation=None))  # assuming output size is 100\n",
        "\n",
        "# Compile the model\n",
        "model.compile(loss='mean_squared_error', optimizer='sgd')\n",
        "\n",
        "model.fit(x=emb_list, y=emb_sgns, epochs=10, batch_size=1)\n",
        "\n",
        "# Evaluate the model\n",
        "loss = model.evaluate(x=emb_list, y=emb_sgns)\n",
        "print(f\"the average loss is {loss}\")"
      ],
      "metadata": {
        "colab": {
          "base_uri": "https://localhost:8080/"
        },
        "id": "qA0tc3aIA91G",
        "outputId": "d4fe6a15-6892-405a-ed5a-748d33bb8e5c"
      },
      "execution_count": 51,
      "outputs": [
        {
          "output_type": "stream",
          "name": "stdout",
          "text": [
            "Epoch 1/10\n",
            "45200/45200 [==============================] - 238s 5ms/step - loss: 0.0347\n",
            "Epoch 2/10\n",
            "45200/45200 [==============================] - 212s 5ms/step - loss: 0.0335\n",
            "Epoch 3/10\n",
            "45200/45200 [==============================] - 216s 5ms/step - loss: 0.0334\n",
            "Epoch 4/10\n",
            "45200/45200 [==============================] - 208s 5ms/step - loss: 0.0333\n",
            "Epoch 5/10\n",
            "45200/45200 [==============================] - 204s 5ms/step - loss: 0.0332\n",
            "Epoch 6/10\n",
            "45200/45200 [==============================] - 206s 5ms/step - loss: 0.0331\n",
            "Epoch 7/10\n",
            "45200/45200 [==============================] - 192s 4ms/step - loss: 0.0330\n",
            "Epoch 8/10\n",
            "45200/45200 [==============================] - 206s 5ms/step - loss: 0.0329\n",
            "Epoch 9/10\n",
            "45200/45200 [==============================] - 196s 4ms/step - loss: 0.0328\n",
            "Epoch 10/10\n",
            "45200/45200 [==============================] - 218s 5ms/step - loss: 0.0327\n",
            "1413/1413 [==============================] - 5s 4ms/step - loss: 0.0327\n",
            "the average loss is 0.03269178420305252\n"
          ]
        }
      ]
    },
    {
      "cell_type": "code",
      "source": [
        "import pandas as pd\n",
        "df = pd.json_normalize(df)"
      ],
      "metadata": {
        "id": "Ur3tccycln6Z"
      },
      "execution_count": 4,
      "outputs": []
    },
    {
      "cell_type": "code",
      "source": [
        "df"
      ],
      "metadata": {
        "colab": {
          "base_uri": "https://localhost:8080/",
          "height": 621
        },
        "id": "3evCVs98nzHJ",
        "outputId": "3d09ad69-ba73-48df-8cfc-7282aa947a62"
      },
      "execution_count": 5,
      "outputs": [
        {
          "output_type": "execute_result",
          "data": {
            "text/plain": [
              "             id                word   pos  \\\n",
              "0        ar.297                أخير    AA   \n",
              "1      ar.65800            نَمِيمَة  noun   \n",
              "2      ar.65790  نمَّ بين الزُّملاء     V   \n",
              "3      ar.38472               مفتاح  noun   \n",
              "4       ar.6547          أجحف بخصمه     V   \n",
              "...         ...                 ...   ...   \n",
              "45195  ar.28481            مُشْكِلة  noun   \n",
              "45196  ar.45986               لُبَد  noun   \n",
              "45197  ar.25830       أهل السُّنَّة  noun   \n",
              "45198  ar.45784           كيلو سُعر  noun   \n",
              "45199   ar.5671        تاه الشَّيءُ     V   \n",
              "\n",
              "                                                   gloss  \\\n",
              "0                               عكس أوَّل، ليس بعده شيء    \n",
              "1      وشاية، نقل الحديث على وجه الإفساد والوقيعة بين...   \n",
              "2                                            حرَّش وأغرى   \n",
              "3      ما يساعد على فهم مسألة معقدة، أو إيجاد مخرج لص...   \n",
              "4                                    اشتدّ في الإضرار به   \n",
              "...                                                  ...   \n",
              "45195             صعوبة يجب تذليلها للحصول على نتيجة ما.   \n",
              "45196                                        كثير متراكم   \n",
              "45197   السَّلف الصَّالح، العاملون بالكتاب والسُّنَّة...   \n",
              "45198  وحدة قياس كمِّيَّة الحرارة التي تلزم لرفع درجة...   \n",
              "45199                                               ضاع.   \n",
              "\n",
              "                                                 electra                 enId  \\\n",
              "0      [-0.6090424061, -1.3187981844, 0.1403246224, 0...                   []   \n",
              "1      [0.4870503545, -1.1256181002, 0.8570457697, -0...                   []   \n",
              "2      [-0.1836982568, -0.5688381866, 0.3699473242, 0...                   []   \n",
              "3      [-0.8474017382, -1.2676231861, 0.0681600049, -...                   []   \n",
              "4      [0.3306163251, 0.2324001733, 0.3323483765, 0.1...                   []   \n",
              "...                                                  ...                  ...   \n",
              "45195  [-1.4643167257, 0.0131763713, 0.5112231374, -0...  [en.7110, en.50868]   \n",
              "45196  [0.2182594091, -0.9905560017, -0.6166527271, -...            [en.6047]   \n",
              "45197  [-0.6276198924, -0.239099741, 0.1758998334, -0...            [en.5907]   \n",
              "45198  [-1.5296031237, -0.1864113323, -0.0574643016, ...                        \n",
              "45199  [-0.5107969046, -0.0901526511, -0.6317191124, ...                        \n",
              "\n",
              "                                                    sgns  \n",
              "0      [0.0231062472, 0.2055995017, 0.3978048265, -0....  \n",
              "1      [-0.0643204302, 0.1027905568, 0.3520267606, 0....  \n",
              "2      [-0.2224979252, 0.3184450567, 0.0620564818, 0....  \n",
              "3      [-0.3391492069, 0.0098403152, 0.0773706064, -0...  \n",
              "4      [0.0974059105, 0.133708939, 0.322111696, 0.347...  \n",
              "...                                                  ...  \n",
              "45195  [0.299158603, 0.0243165549, 0.3381068707, -0.2...  \n",
              "45196  [-0.0629788116, 0.1784198582, 0.2217850536, 0....  \n",
              "45197  [-0.3708837032, 0.0437819362, 0.6107559204, 0....  \n",
              "45198  [-0.0871081129, 0.066735819, 0.2245120704, 0.2...  \n",
              "45199  [0.1208521128, 0.1613542736, -0.3043050468, 0....  \n",
              "\n",
              "[45200 rows x 7 columns]"
            ],
            "text/html": [
              "\n",
              "\n",
              "  <div id=\"df-77470c69-0172-490d-8c76-307797bd6f13\">\n",
              "    <div class=\"colab-df-container\">\n",
              "      <div>\n",
              "<style scoped>\n",
              "    .dataframe tbody tr th:only-of-type {\n",
              "        vertical-align: middle;\n",
              "    }\n",
              "\n",
              "    .dataframe tbody tr th {\n",
              "        vertical-align: top;\n",
              "    }\n",
              "\n",
              "    .dataframe thead th {\n",
              "        text-align: right;\n",
              "    }\n",
              "</style>\n",
              "<table border=\"1\" class=\"dataframe\">\n",
              "  <thead>\n",
              "    <tr style=\"text-align: right;\">\n",
              "      <th></th>\n",
              "      <th>id</th>\n",
              "      <th>word</th>\n",
              "      <th>pos</th>\n",
              "      <th>gloss</th>\n",
              "      <th>electra</th>\n",
              "      <th>enId</th>\n",
              "      <th>sgns</th>\n",
              "    </tr>\n",
              "  </thead>\n",
              "  <tbody>\n",
              "    <tr>\n",
              "      <th>0</th>\n",
              "      <td>ar.297</td>\n",
              "      <td>أخير</td>\n",
              "      <td>AA</td>\n",
              "      <td>عكس أوَّل، ليس بعده شيء</td>\n",
              "      <td>[-0.6090424061, -1.3187981844, 0.1403246224, 0...</td>\n",
              "      <td>[]</td>\n",
              "      <td>[0.0231062472, 0.2055995017, 0.3978048265, -0....</td>\n",
              "    </tr>\n",
              "    <tr>\n",
              "      <th>1</th>\n",
              "      <td>ar.65800</td>\n",
              "      <td>نَمِيمَة</td>\n",
              "      <td>noun</td>\n",
              "      <td>وشاية، نقل الحديث على وجه الإفساد والوقيعة بين...</td>\n",
              "      <td>[0.4870503545, -1.1256181002, 0.8570457697, -0...</td>\n",
              "      <td>[]</td>\n",
              "      <td>[-0.0643204302, 0.1027905568, 0.3520267606, 0....</td>\n",
              "    </tr>\n",
              "    <tr>\n",
              "      <th>2</th>\n",
              "      <td>ar.65790</td>\n",
              "      <td>نمَّ بين الزُّملاء</td>\n",
              "      <td>V</td>\n",
              "      <td>حرَّش وأغرى</td>\n",
              "      <td>[-0.1836982568, -0.5688381866, 0.3699473242, 0...</td>\n",
              "      <td>[]</td>\n",
              "      <td>[-0.2224979252, 0.3184450567, 0.0620564818, 0....</td>\n",
              "    </tr>\n",
              "    <tr>\n",
              "      <th>3</th>\n",
              "      <td>ar.38472</td>\n",
              "      <td>مفتاح</td>\n",
              "      <td>noun</td>\n",
              "      <td>ما يساعد على فهم مسألة معقدة، أو إيجاد مخرج لص...</td>\n",
              "      <td>[-0.8474017382, -1.2676231861, 0.0681600049, -...</td>\n",
              "      <td>[]</td>\n",
              "      <td>[-0.3391492069, 0.0098403152, 0.0773706064, -0...</td>\n",
              "    </tr>\n",
              "    <tr>\n",
              "      <th>4</th>\n",
              "      <td>ar.6547</td>\n",
              "      <td>أجحف بخصمه</td>\n",
              "      <td>V</td>\n",
              "      <td>اشتدّ في الإضرار به</td>\n",
              "      <td>[0.3306163251, 0.2324001733, 0.3323483765, 0.1...</td>\n",
              "      <td>[]</td>\n",
              "      <td>[0.0974059105, 0.133708939, 0.322111696, 0.347...</td>\n",
              "    </tr>\n",
              "    <tr>\n",
              "      <th>...</th>\n",
              "      <td>...</td>\n",
              "      <td>...</td>\n",
              "      <td>...</td>\n",
              "      <td>...</td>\n",
              "      <td>...</td>\n",
              "      <td>...</td>\n",
              "      <td>...</td>\n",
              "    </tr>\n",
              "    <tr>\n",
              "      <th>45195</th>\n",
              "      <td>ar.28481</td>\n",
              "      <td>مُشْكِلة</td>\n",
              "      <td>noun</td>\n",
              "      <td>صعوبة يجب تذليلها للحصول على نتيجة ما.</td>\n",
              "      <td>[-1.4643167257, 0.0131763713, 0.5112231374, -0...</td>\n",
              "      <td>[en.7110, en.50868]</td>\n",
              "      <td>[0.299158603, 0.0243165549, 0.3381068707, -0.2...</td>\n",
              "    </tr>\n",
              "    <tr>\n",
              "      <th>45196</th>\n",
              "      <td>ar.45986</td>\n",
              "      <td>لُبَد</td>\n",
              "      <td>noun</td>\n",
              "      <td>كثير متراكم</td>\n",
              "      <td>[0.2182594091, -0.9905560017, -0.6166527271, -...</td>\n",
              "      <td>[en.6047]</td>\n",
              "      <td>[-0.0629788116, 0.1784198582, 0.2217850536, 0....</td>\n",
              "    </tr>\n",
              "    <tr>\n",
              "      <th>45197</th>\n",
              "      <td>ar.25830</td>\n",
              "      <td>أهل السُّنَّة</td>\n",
              "      <td>noun</td>\n",
              "      <td>السَّلف الصَّالح، العاملون بالكتاب والسُّنَّة...</td>\n",
              "      <td>[-0.6276198924, -0.239099741, 0.1758998334, -0...</td>\n",
              "      <td>[en.5907]</td>\n",
              "      <td>[-0.3708837032, 0.0437819362, 0.6107559204, 0....</td>\n",
              "    </tr>\n",
              "    <tr>\n",
              "      <th>45198</th>\n",
              "      <td>ar.45784</td>\n",
              "      <td>كيلو سُعر</td>\n",
              "      <td>noun</td>\n",
              "      <td>وحدة قياس كمِّيَّة الحرارة التي تلزم لرفع درجة...</td>\n",
              "      <td>[-1.5296031237, -0.1864113323, -0.0574643016, ...</td>\n",
              "      <td></td>\n",
              "      <td>[-0.0871081129, 0.066735819, 0.2245120704, 0.2...</td>\n",
              "    </tr>\n",
              "    <tr>\n",
              "      <th>45199</th>\n",
              "      <td>ar.5671</td>\n",
              "      <td>تاه الشَّيءُ</td>\n",
              "      <td>V</td>\n",
              "      <td>ضاع.</td>\n",
              "      <td>[-0.5107969046, -0.0901526511, -0.6317191124, ...</td>\n",
              "      <td></td>\n",
              "      <td>[0.1208521128, 0.1613542736, -0.3043050468, 0....</td>\n",
              "    </tr>\n",
              "  </tbody>\n",
              "</table>\n",
              "<p>45200 rows × 7 columns</p>\n",
              "</div>\n",
              "      <button class=\"colab-df-convert\" onclick=\"convertToInteractive('df-77470c69-0172-490d-8c76-307797bd6f13')\"\n",
              "              title=\"Convert this dataframe to an interactive table.\"\n",
              "              style=\"display:none;\">\n",
              "\n",
              "  <svg xmlns=\"http://www.w3.org/2000/svg\" height=\"24px\"viewBox=\"0 0 24 24\"\n",
              "       width=\"24px\">\n",
              "    <path d=\"M0 0h24v24H0V0z\" fill=\"none\"/>\n",
              "    <path d=\"M18.56 5.44l.94 2.06.94-2.06 2.06-.94-2.06-.94-.94-2.06-.94 2.06-2.06.94zm-11 1L8.5 8.5l.94-2.06 2.06-.94-2.06-.94L8.5 2.5l-.94 2.06-2.06.94zm10 10l.94 2.06.94-2.06 2.06-.94-2.06-.94-.94-2.06-.94 2.06-2.06.94z\"/><path d=\"M17.41 7.96l-1.37-1.37c-.4-.4-.92-.59-1.43-.59-.52 0-1.04.2-1.43.59L10.3 9.45l-7.72 7.72c-.78.78-.78 2.05 0 2.83L4 21.41c.39.39.9.59 1.41.59.51 0 1.02-.2 1.41-.59l7.78-7.78 2.81-2.81c.8-.78.8-2.07 0-2.86zM5.41 20L4 18.59l7.72-7.72 1.47 1.35L5.41 20z\"/>\n",
              "  </svg>\n",
              "      </button>\n",
              "\n",
              "\n",
              "\n",
              "    <div id=\"df-137e5bf8-75b1-4b60-8261-bd2cffcd1514\">\n",
              "      <button class=\"colab-df-quickchart\" onclick=\"quickchart('df-137e5bf8-75b1-4b60-8261-bd2cffcd1514')\"\n",
              "              title=\"Suggest charts.\"\n",
              "              style=\"display:none;\">\n",
              "\n",
              "<svg xmlns=\"http://www.w3.org/2000/svg\" height=\"24px\"viewBox=\"0 0 24 24\"\n",
              "     width=\"24px\">\n",
              "    <g>\n",
              "        <path d=\"M19 3H5c-1.1 0-2 .9-2 2v14c0 1.1.9 2 2 2h14c1.1 0 2-.9 2-2V5c0-1.1-.9-2-2-2zM9 17H7v-7h2v7zm4 0h-2V7h2v10zm4 0h-2v-4h2v4z\"/>\n",
              "    </g>\n",
              "</svg>\n",
              "      </button>\n",
              "    </div>\n",
              "\n",
              "<style>\n",
              "  .colab-df-quickchart {\n",
              "    background-color: #E8F0FE;\n",
              "    border: none;\n",
              "    border-radius: 50%;\n",
              "    cursor: pointer;\n",
              "    display: none;\n",
              "    fill: #1967D2;\n",
              "    height: 32px;\n",
              "    padding: 0 0 0 0;\n",
              "    width: 32px;\n",
              "  }\n",
              "\n",
              "  .colab-df-quickchart:hover {\n",
              "    background-color: #E2EBFA;\n",
              "    box-shadow: 0px 1px 2px rgba(60, 64, 67, 0.3), 0px 1px 3px 1px rgba(60, 64, 67, 0.15);\n",
              "    fill: #174EA6;\n",
              "  }\n",
              "\n",
              "  [theme=dark] .colab-df-quickchart {\n",
              "    background-color: #3B4455;\n",
              "    fill: #D2E3FC;\n",
              "  }\n",
              "\n",
              "  [theme=dark] .colab-df-quickchart:hover {\n",
              "    background-color: #434B5C;\n",
              "    box-shadow: 0px 1px 3px 1px rgba(0, 0, 0, 0.15);\n",
              "    filter: drop-shadow(0px 1px 2px rgba(0, 0, 0, 0.3));\n",
              "    fill: #FFFFFF;\n",
              "  }\n",
              "</style>\n",
              "\n",
              "    <script>\n",
              "      async function quickchart(key) {\n",
              "        const containerElement = document.querySelector('#' + key);\n",
              "        const charts = await google.colab.kernel.invokeFunction(\n",
              "            'suggestCharts', [key], {});\n",
              "      }\n",
              "    </script>\n",
              "\n",
              "      <script>\n",
              "\n",
              "function displayQuickchartButton(domScope) {\n",
              "  let quickchartButtonEl =\n",
              "    domScope.querySelector('#df-137e5bf8-75b1-4b60-8261-bd2cffcd1514 button.colab-df-quickchart');\n",
              "  quickchartButtonEl.style.display =\n",
              "    google.colab.kernel.accessAllowed ? 'block' : 'none';\n",
              "}\n",
              "\n",
              "        displayQuickchartButton(document);\n",
              "      </script>\n",
              "      <style>\n",
              "    .colab-df-container {\n",
              "      display:flex;\n",
              "      flex-wrap:wrap;\n",
              "      gap: 12px;\n",
              "    }\n",
              "\n",
              "    .colab-df-convert {\n",
              "      background-color: #E8F0FE;\n",
              "      border: none;\n",
              "      border-radius: 50%;\n",
              "      cursor: pointer;\n",
              "      display: none;\n",
              "      fill: #1967D2;\n",
              "      height: 32px;\n",
              "      padding: 0 0 0 0;\n",
              "      width: 32px;\n",
              "    }\n",
              "\n",
              "    .colab-df-convert:hover {\n",
              "      background-color: #E2EBFA;\n",
              "      box-shadow: 0px 1px 2px rgba(60, 64, 67, 0.3), 0px 1px 3px 1px rgba(60, 64, 67, 0.15);\n",
              "      fill: #174EA6;\n",
              "    }\n",
              "\n",
              "    [theme=dark] .colab-df-convert {\n",
              "      background-color: #3B4455;\n",
              "      fill: #D2E3FC;\n",
              "    }\n",
              "\n",
              "    [theme=dark] .colab-df-convert:hover {\n",
              "      background-color: #434B5C;\n",
              "      box-shadow: 0px 1px 3px 1px rgba(0, 0, 0, 0.15);\n",
              "      filter: drop-shadow(0px 1px 2px rgba(0, 0, 0, 0.3));\n",
              "      fill: #FFFFFF;\n",
              "    }\n",
              "  </style>\n",
              "\n",
              "      <script>\n",
              "        const buttonEl =\n",
              "          document.querySelector('#df-77470c69-0172-490d-8c76-307797bd6f13 button.colab-df-convert');\n",
              "        buttonEl.style.display =\n",
              "          google.colab.kernel.accessAllowed ? 'block' : 'none';\n",
              "\n",
              "        async function convertToInteractive(key) {\n",
              "          const element = document.querySelector('#df-77470c69-0172-490d-8c76-307797bd6f13');\n",
              "          const dataTable =\n",
              "            await google.colab.kernel.invokeFunction('convertToInteractive',\n",
              "                                                     [key], {});\n",
              "          if (!dataTable) return;\n",
              "\n",
              "          const docLinkHtml = 'Like what you see? Visit the ' +\n",
              "            '<a target=\"_blank\" href=https://colab.research.google.com/notebooks/data_table.ipynb>data table notebook</a>'\n",
              "            + ' to learn more about interactive tables.';\n",
              "          element.innerHTML = '';\n",
              "          dataTable['output_type'] = 'display_data';\n",
              "          await google.colab.output.renderOutput(dataTable, element);\n",
              "          const docLink = document.createElement('div');\n",
              "          docLink.innerHTML = docLinkHtml;\n",
              "          element.appendChild(docLink);\n",
              "        }\n",
              "      </script>\n",
              "    </div>\n",
              "  </div>\n"
            ]
          },
          "metadata": {},
          "execution_count": 5
        }
      ]
    }
  ]
}