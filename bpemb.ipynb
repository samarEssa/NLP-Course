{
  "nbformat": 4,
  "nbformat_minor": 0,
  "metadata": {
    "colab": {
      "provenance": []
    },
    "kernelspec": {
      "name": "python3",
      "display_name": "Python 3"
    },
    "language_info": {
      "name": "python"
    }
  },
  "cells": [
    {
      "cell_type": "code",
      "execution_count": 1,
      "metadata": {
        "id": "rLq0RRasxcbD",
        "colab": {
          "base_uri": "https://localhost:8080/"
        },
        "outputId": "76881cc4-3a4e-4c56-ec9e-deb0ee7101e0"
      },
      "outputs": [
        {
          "output_type": "stream",
          "name": "stdout",
          "text": [
            "Collecting bpemb\n",
            "  Downloading bpemb-0.3.4-py3-none-any.whl (19 kB)\n",
            "Requirement already satisfied: gensim in /usr/local/lib/python3.10/dist-packages (from bpemb) (4.3.2)\n",
            "Requirement already satisfied: numpy in /usr/local/lib/python3.10/dist-packages (from bpemb) (1.23.5)\n",
            "Requirement already satisfied: requests in /usr/local/lib/python3.10/dist-packages (from bpemb) (2.31.0)\n",
            "Collecting sentencepiece (from bpemb)\n",
            "  Downloading sentencepiece-0.1.99-cp310-cp310-manylinux_2_17_x86_64.manylinux2014_x86_64.whl (1.3 MB)\n",
            "\u001b[2K     \u001b[90m━━━━━━━━━━━━━━━━━━━━━━━━━━━━━━━━━━━━━━━━\u001b[0m \u001b[32m1.3/1.3 MB\u001b[0m \u001b[31m10.4 MB/s\u001b[0m eta \u001b[36m0:00:00\u001b[0m\n",
            "\u001b[?25hRequirement already satisfied: tqdm in /usr/local/lib/python3.10/dist-packages (from bpemb) (4.66.1)\n",
            "Requirement already satisfied: scipy>=1.7.0 in /usr/local/lib/python3.10/dist-packages (from gensim->bpemb) (1.11.3)\n",
            "Requirement already satisfied: smart-open>=1.8.1 in /usr/local/lib/python3.10/dist-packages (from gensim->bpemb) (6.4.0)\n",
            "Requirement already satisfied: charset-normalizer<4,>=2 in /usr/local/lib/python3.10/dist-packages (from requests->bpemb) (3.3.2)\n",
            "Requirement already satisfied: idna<4,>=2.5 in /usr/local/lib/python3.10/dist-packages (from requests->bpemb) (3.4)\n",
            "Requirement already satisfied: urllib3<3,>=1.21.1 in /usr/local/lib/python3.10/dist-packages (from requests->bpemb) (2.0.7)\n",
            "Requirement already satisfied: certifi>=2017.4.17 in /usr/local/lib/python3.10/dist-packages (from requests->bpemb) (2023.7.22)\n",
            "Installing collected packages: sentencepiece, bpemb\n",
            "Successfully installed bpemb-0.3.4 sentencepiece-0.1.99\n"
          ]
        }
      ],
      "source": [
        "!pip install bpemb"
      ]
    },
    {
      "cell_type": "code",
      "source": [
        "from bpemb import BPEmb\n",
        "dim = 300\n",
        "V_S=10000\n",
        "bpemb = BPEmb(lang=\"ar\", dim=dim, vs=V_S)"
      ],
      "metadata": {
        "colab": {
          "base_uri": "https://localhost:8080/"
        },
        "id": "driP-EXkzpDk",
        "outputId": "e363ef2f-d8c8-40b1-83e2-cbe97d81b7ad"
      },
      "execution_count": 2,
      "outputs": [
        {
          "output_type": "stream",
          "name": "stdout",
          "text": [
            "downloading https://nlp.h-its.org/bpemb/ar/ar.wiki.bpe.vs10000.model\n"
          ]
        },
        {
          "output_type": "stream",
          "name": "stderr",
          "text": [
            "100%|██████████| 428120/428120 [00:00<00:00, 1100378.24B/s]\n"
          ]
        },
        {
          "output_type": "stream",
          "name": "stdout",
          "text": [
            "downloading https://nlp.h-its.org/bpemb/ar/ar.wiki.bpe.vs10000.d300.w2v.bin.tar.gz\n"
          ]
        },
        {
          "output_type": "stream",
          "name": "stderr",
          "text": [
            "100%|██████████| 11198290/11198290 [00:01<00:00, 10688118.41B/s]\n"
          ]
        }
      ]
    },
    {
      "cell_type": "code",
      "source": [
        "import numpy as np"
      ],
      "metadata": {
        "id": "Ld781Wjw9oLB"
      },
      "execution_count": 4,
      "outputs": []
    },
    {
      "cell_type": "code",
      "source": [
        "def return_emb_word(word):\n",
        "    tokens = bpemb.encode(word)\n",
        "    emb = np.zeros(300)\n",
        "    count = 0\n",
        "    for token in tokens:\n",
        "        if token:\n",
        "            try:\n",
        "                emb_tensor = bpemb.emb[token]\n",
        "                emb = emb + emb_tensor\n",
        "                count += 1\n",
        "            except KeyError:\n",
        "                # handle case where token is not in vocabulary\n",
        "                pass\n",
        "    if count > 0:\n",
        "        emb = emb / count\n",
        "    return emb"
      ],
      "metadata": {
        "id": "FhfkBfoJzo_Z"
      },
      "execution_count": 5,
      "outputs": []
    },
    {
      "cell_type": "code",
      "source": [
        "word = 'جميل'"
      ],
      "metadata": {
        "id": "Ql73me6b9x4R"
      },
      "execution_count": 6,
      "outputs": []
    },
    {
      "cell_type": "code",
      "source": [
        "word_emb = return_emb_word(word)"
      ],
      "metadata": {
        "id": "npyaoGlwzo23"
      },
      "execution_count": 8,
      "outputs": []
    },
    {
      "cell_type": "code",
      "source": [
        "bpemb.most_similar(word_emb, topn=20)"
      ],
      "metadata": {
        "colab": {
          "base_uri": "https://localhost:8080/"
        },
        "id": "gzR-BbQY-OEP",
        "outputId": "1dbab678-10af-4842-f749-bffdff16f1fe"
      },
      "execution_count": 9,
      "outputs": [
        {
          "output_type": "execute_result",
          "data": {
            "text/plain": [
              "[('▁جميل', 1.0000001192092896),\n",
              " ('▁حسن', 0.4463377594947815),\n",
              " ('▁عادل', 0.4420865774154663),\n",
              " ('▁محمود', 0.4393838346004486),\n",
              " ('▁جمال', 0.4339165985584259),\n",
              " ('▁حسين', 0.4321759045124054),\n",
              " ('▁عباس', 0.42864271998405457),\n",
              " ('▁أحمد', 0.4135059118270874),\n",
              " ('طيف', 0.4090348780155182),\n",
              " ('▁هاشم', 0.4060848653316498),\n",
              " ('▁عبدال', 0.399697482585907),\n",
              " ('▁عبد', 0.392745703458786),\n",
              " ('▁سعيد', 0.39124470949172974),\n",
              " ('▁جميلة', 0.39076104760169983),\n",
              " ('▁رائ', 0.38514724373817444),\n",
              " ('▁فؤاد', 0.383579820394516),\n",
              " ('▁سليم', 0.3762517273426056),\n",
              " ('▁ناصر', 0.3759317398071289),\n",
              " ('▁خليل', 0.3754573166370392),\n",
              " ('▁كريم', 0.37440618872642517)]"
            ]
          },
          "metadata": {},
          "execution_count": 9
        }
      ]
    }
  ]
}