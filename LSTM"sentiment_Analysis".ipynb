{
  "cells": [
    {
      "cell_type": "code",
      "execution_count": 1,
      "metadata": {
        "id": "Br5kiJ7BXFYg"
      },
      "outputs": [],
      "source": [
        "import numpy as np # linear algebra\n",
        "import pandas as pd\n",
        "import pandas as pd\n",
        "import numpy as np\n",
        "import matplotlib.pyplot as plt\n",
        "import warnings\n",
        "warnings.filterwarnings(\"ignore\")\n",
        "import seaborn as sns"
      ]
    },
    {
      "cell_type": "code",
      "execution_count": 5,
      "metadata": {
        "id": "KzCy9hnBUzJc"
      },
      "outputs": [],
      "source": [
        "# import tensorflow as tf\n",
        "\n",
        "# # Get the GPU device name.\n",
        "# device_name = tf.test.gpu_device_name()\n",
        "\n",
        "# # The device name should look like the following:\n",
        "# if device_name == '/device:GPU:0':\n",
        "#     print('Found GPU at: {}'.format(device_name))\n",
        "# else:\n",
        "#     raise SystemError('GPU device not found')"
      ]
    },
    {
      "cell_type": "code",
      "execution_count": 2,
      "metadata": {
        "colab": {
          "base_uri": "https://localhost:8080/"
        },
        "id": "qGl6KHhBVUpI",
        "outputId": "60e04c6e-df0f-49a2-e912-3f6f2da0ea53"
      },
      "outputs": [
        {
          "output_type": "stream",
          "name": "stdout",
          "text": [
            "Looking in indexes: https://pypi.org/simple, https://us-python.pkg.dev/colab-wheels/public/simple/\n",
            "Collecting transformers\n",
            "  Downloading transformers-4.26.1-py3-none-any.whl (6.3 MB)\n",
            "\u001b[2K     \u001b[90m━━━━━━━━━━━━━━━━━━━━━━━━━━━━━━━━━━━━━━━━\u001b[0m \u001b[32m6.3/6.3 MB\u001b[0m \u001b[31m40.0 MB/s\u001b[0m eta \u001b[36m0:00:00\u001b[0m\n",
            "\u001b[?25hRequirement already satisfied: filelock in /usr/local/lib/python3.8/dist-packages (from transformers) (3.9.0)\n",
            "Collecting huggingface-hub<1.0,>=0.11.0\n",
            "  Downloading huggingface_hub-0.12.0-py3-none-any.whl (190 kB)\n",
            "\u001b[2K     \u001b[90m━━━━━━━━━━━━━━━━━━━━━━━━━━━━━━━━━━━━━━\u001b[0m \u001b[32m190.3/190.3 KB\u001b[0m \u001b[31m16.1 MB/s\u001b[0m eta \u001b[36m0:00:00\u001b[0m\n",
            "\u001b[?25hRequirement already satisfied: pyyaml>=5.1 in /usr/local/lib/python3.8/dist-packages (from transformers) (6.0)\n",
            "Requirement already satisfied: tqdm>=4.27 in /usr/local/lib/python3.8/dist-packages (from transformers) (4.64.1)\n",
            "Requirement already satisfied: regex!=2019.12.17 in /usr/local/lib/python3.8/dist-packages (from transformers) (2022.6.2)\n",
            "Requirement already satisfied: numpy>=1.17 in /usr/local/lib/python3.8/dist-packages (from transformers) (1.21.6)\n",
            "Requirement already satisfied: requests in /usr/local/lib/python3.8/dist-packages (from transformers) (2.25.1)\n",
            "Collecting tokenizers!=0.11.3,<0.14,>=0.11.1\n",
            "  Downloading tokenizers-0.13.2-cp38-cp38-manylinux_2_17_x86_64.manylinux2014_x86_64.whl (7.6 MB)\n",
            "\u001b[2K     \u001b[90m━━━━━━━━━━━━━━━━━━━━━━━━━━━━━━━━━━━━━━━━\u001b[0m \u001b[32m7.6/7.6 MB\u001b[0m \u001b[31m81.2 MB/s\u001b[0m eta \u001b[36m0:00:00\u001b[0m\n",
            "\u001b[?25hRequirement already satisfied: packaging>=20.0 in /usr/local/lib/python3.8/dist-packages (from transformers) (23.0)\n",
            "Requirement already satisfied: typing-extensions>=3.7.4.3 in /usr/local/lib/python3.8/dist-packages (from huggingface-hub<1.0,>=0.11.0->transformers) (4.4.0)\n",
            "Requirement already satisfied: urllib3<1.27,>=1.21.1 in /usr/local/lib/python3.8/dist-packages (from requests->transformers) (1.24.3)\n",
            "Requirement already satisfied: idna<3,>=2.5 in /usr/local/lib/python3.8/dist-packages (from requests->transformers) (2.10)\n",
            "Requirement already satisfied: certifi>=2017.4.17 in /usr/local/lib/python3.8/dist-packages (from requests->transformers) (2022.12.7)\n",
            "Requirement already satisfied: chardet<5,>=3.0.2 in /usr/local/lib/python3.8/dist-packages (from requests->transformers) (4.0.0)\n",
            "Installing collected packages: tokenizers, huggingface-hub, transformers\n",
            "Successfully installed huggingface-hub-0.12.0 tokenizers-0.13.2 transformers-4.26.1\n"
          ]
        }
      ],
      "source": [
        "!pip install transformers\n",
        "     "
      ]
    },
    {
      "cell_type": "code",
      "execution_count": 3,
      "metadata": {
        "id": "d921DpRXVUg5"
      },
      "outputs": [],
      "source": [
        "import pandas as pd\n",
        "reviews_data = pd.read_csv('/content/all_kindle_review .csv')# Drop missing review "
      ]
    },
    {
      "cell_type": "markdown",
      "source": [
        "### Data Preparation "
      ],
      "metadata": {
        "id": "cH5ed3sf3942"
      }
    },
    {
      "cell_type": "code",
      "execution_count": 4,
      "metadata": {
        "colab": {
          "base_uri": "https://localhost:8080/"
        },
        "id": "G-phGPHBWnCA",
        "outputId": "6d960e5c-048c-426e-a835-ff0f60c51c84"
      },
      "outputs": [
        {
          "output_type": "execute_result",
          "data": {
            "text/plain": [
              "(12000, 11)"
            ]
          },
          "metadata": {},
          "execution_count": 4
        }
      ],
      "source": [
        "reviews_data.shape"
      ]
    },
    {
      "cell_type": "code",
      "execution_count": 5,
      "metadata": {
        "colab": {
          "base_uri": "https://localhost:8080/"
        },
        "id": "IbnCFxRGWm-U",
        "outputId": "cb276b54-bd9b-4426-8caa-291a56487621"
      },
      "outputs": [
        {
          "output_type": "execute_result",
          "data": {
            "text/plain": [
              "Index(['Unnamed: 0', 'Unnamed: 0.1', 'asin', 'helpful', 'rating', 'reviewText',\n",
              "       'reviewTime', 'reviewerID', 'reviewerName', 'summary',\n",
              "       'unixReviewTime'],\n",
              "      dtype='object')"
            ]
          },
          "metadata": {},
          "execution_count": 5
        }
      ],
      "source": [
        "reviews_data.columns"
      ]
    },
    {
      "cell_type": "code",
      "execution_count": 6,
      "metadata": {
        "id": "EW8uzuFy-BOq"
      },
      "outputs": [],
      "source": [
        "reviews_data['reviewText']= reviews_data[ 'reviewText'].apply(lambda x:\" \".join(x.lower() for I in x.split()))\n"
      ]
    },
    {
      "cell_type": "code",
      "execution_count": 7,
      "metadata": {
        "colab": {
          "base_uri": "https://localhost:8080/"
        },
        "id": "k4nQ2diu-tUe",
        "outputId": "9d339752-3cbf-4ffc-cf5e-fc6f4372d262"
      },
      "outputs": [
        {
          "output_type": "execute_result",
          "data": {
            "text/plain": [
              "0        jace rankin may be short, but he's nothing to ...\n",
              "1        great short read.  i didn't want to put it dow...\n",
              "2        i'll start by saying this is the first of four...\n",
              "3        aggie is angela lansbury who carries pocketboo...\n",
              "4        i did not expect this type of book to be in li...\n",
              "                               ...                        \n",
              "11995    valentine cupid is a vampire- jena and ian ano...\n",
              "11996    i have read all seven books in this series. ap...\n",
              "11997    this book really just wasn't my cuppa.  the si...\n",
              "11998    tried to use it to charge my kindle, it didn't...\n",
              "11999    taking instruction is a look into the often hi...\n",
              "Name: reviewText, Length: 12000, dtype: object"
            ]
          },
          "metadata": {},
          "execution_count": 7
        }
      ],
      "source": [
        "reviews_data['reviewText']"
      ]
    },
    {
      "cell_type": "code",
      "execution_count": 8,
      "metadata": {
        "colab": {
          "base_uri": "https://localhost:8080/",
          "height": 320
        },
        "id": "yjKTRATmWm6I",
        "outputId": "d5d88634-5fd5-40de-d663-cb4b6fc56017"
      },
      "outputs": [
        {
          "output_type": "execute_result",
          "data": {
            "text/plain": [
              "   Unnamed: 0  Unnamed: 0.1   ProductId  helpful  rating  \\\n",
              "0           0         11539  B0033UV8HI  [8, 10]       3   \n",
              "1           1          5957  B002HJV4DE   [1, 1]       5   \n",
              "2           2          9146  B002ZG96I4   [0, 0]       3   \n",
              "3           3          7038  B002QHWOEU   [1, 3]       3   \n",
              "4           4          1776  B001A06VJ8   [0, 1]       4   \n",
              "\n",
              "                                                Text   reviewTime  \\\n",
              "0  jace rankin may be short, but he's nothing to ...   09 2, 2010   \n",
              "1  great short read.  i didn't want to put it dow...   10 8, 2013   \n",
              "2  i'll start by saying this is the first of four...  04 11, 2014   \n",
              "3  aggie is angela lansbury who carries pocketboo...   07 5, 2014   \n",
              "4  i did not expect this type of book to be in li...  12 31, 2012   \n",
              "\n",
              "           UserId  reviewerName                   Summary        Time  \n",
              "0  A3HHXRELK8BHQG        Ridley  Entertaining But Average  1283385600  \n",
              "1  A2RGNZ0TRF578I  Holly Butler   Terrific menage scenes!  1381190400  \n",
              "2  A3S0H2HV6U1I7F       Merissa          Snapdragon Alley  1397174400  \n",
              "3   AC4OQW3GZ919J    Cleargrace    very light murder cozy  1404518400  \n",
              "4  A3C9V987IQHOQD      Rjostler                      Book  1356912000  "
            ],
            "text/html": [
              "\n",
              "  <div id=\"df-a78c538b-e450-4806-825c-98835e379260\">\n",
              "    <div class=\"colab-df-container\">\n",
              "      <div>\n",
              "<style scoped>\n",
              "    .dataframe tbody tr th:only-of-type {\n",
              "        vertical-align: middle;\n",
              "    }\n",
              "\n",
              "    .dataframe tbody tr th {\n",
              "        vertical-align: top;\n",
              "    }\n",
              "\n",
              "    .dataframe thead th {\n",
              "        text-align: right;\n",
              "    }\n",
              "</style>\n",
              "<table border=\"1\" class=\"dataframe\">\n",
              "  <thead>\n",
              "    <tr style=\"text-align: right;\">\n",
              "      <th></th>\n",
              "      <th>Unnamed: 0</th>\n",
              "      <th>Unnamed: 0.1</th>\n",
              "      <th>ProductId</th>\n",
              "      <th>helpful</th>\n",
              "      <th>rating</th>\n",
              "      <th>Text</th>\n",
              "      <th>reviewTime</th>\n",
              "      <th>UserId</th>\n",
              "      <th>reviewerName</th>\n",
              "      <th>Summary</th>\n",
              "      <th>Time</th>\n",
              "    </tr>\n",
              "  </thead>\n",
              "  <tbody>\n",
              "    <tr>\n",
              "      <th>0</th>\n",
              "      <td>0</td>\n",
              "      <td>11539</td>\n",
              "      <td>B0033UV8HI</td>\n",
              "      <td>[8, 10]</td>\n",
              "      <td>3</td>\n",
              "      <td>jace rankin may be short, but he's nothing to ...</td>\n",
              "      <td>09 2, 2010</td>\n",
              "      <td>A3HHXRELK8BHQG</td>\n",
              "      <td>Ridley</td>\n",
              "      <td>Entertaining But Average</td>\n",
              "      <td>1283385600</td>\n",
              "    </tr>\n",
              "    <tr>\n",
              "      <th>1</th>\n",
              "      <td>1</td>\n",
              "      <td>5957</td>\n",
              "      <td>B002HJV4DE</td>\n",
              "      <td>[1, 1]</td>\n",
              "      <td>5</td>\n",
              "      <td>great short read.  i didn't want to put it dow...</td>\n",
              "      <td>10 8, 2013</td>\n",
              "      <td>A2RGNZ0TRF578I</td>\n",
              "      <td>Holly Butler</td>\n",
              "      <td>Terrific menage scenes!</td>\n",
              "      <td>1381190400</td>\n",
              "    </tr>\n",
              "    <tr>\n",
              "      <th>2</th>\n",
              "      <td>2</td>\n",
              "      <td>9146</td>\n",
              "      <td>B002ZG96I4</td>\n",
              "      <td>[0, 0]</td>\n",
              "      <td>3</td>\n",
              "      <td>i'll start by saying this is the first of four...</td>\n",
              "      <td>04 11, 2014</td>\n",
              "      <td>A3S0H2HV6U1I7F</td>\n",
              "      <td>Merissa</td>\n",
              "      <td>Snapdragon Alley</td>\n",
              "      <td>1397174400</td>\n",
              "    </tr>\n",
              "    <tr>\n",
              "      <th>3</th>\n",
              "      <td>3</td>\n",
              "      <td>7038</td>\n",
              "      <td>B002QHWOEU</td>\n",
              "      <td>[1, 3]</td>\n",
              "      <td>3</td>\n",
              "      <td>aggie is angela lansbury who carries pocketboo...</td>\n",
              "      <td>07 5, 2014</td>\n",
              "      <td>AC4OQW3GZ919J</td>\n",
              "      <td>Cleargrace</td>\n",
              "      <td>very light murder cozy</td>\n",
              "      <td>1404518400</td>\n",
              "    </tr>\n",
              "    <tr>\n",
              "      <th>4</th>\n",
              "      <td>4</td>\n",
              "      <td>1776</td>\n",
              "      <td>B001A06VJ8</td>\n",
              "      <td>[0, 1]</td>\n",
              "      <td>4</td>\n",
              "      <td>i did not expect this type of book to be in li...</td>\n",
              "      <td>12 31, 2012</td>\n",
              "      <td>A3C9V987IQHOQD</td>\n",
              "      <td>Rjostler</td>\n",
              "      <td>Book</td>\n",
              "      <td>1356912000</td>\n",
              "    </tr>\n",
              "  </tbody>\n",
              "</table>\n",
              "</div>\n",
              "      <button class=\"colab-df-convert\" onclick=\"convertToInteractive('df-a78c538b-e450-4806-825c-98835e379260')\"\n",
              "              title=\"Convert this dataframe to an interactive table.\"\n",
              "              style=\"display:none;\">\n",
              "        \n",
              "  <svg xmlns=\"http://www.w3.org/2000/svg\" height=\"24px\"viewBox=\"0 0 24 24\"\n",
              "       width=\"24px\">\n",
              "    <path d=\"M0 0h24v24H0V0z\" fill=\"none\"/>\n",
              "    <path d=\"M18.56 5.44l.94 2.06.94-2.06 2.06-.94-2.06-.94-.94-2.06-.94 2.06-2.06.94zm-11 1L8.5 8.5l.94-2.06 2.06-.94-2.06-.94L8.5 2.5l-.94 2.06-2.06.94zm10 10l.94 2.06.94-2.06 2.06-.94-2.06-.94-.94-2.06-.94 2.06-2.06.94z\"/><path d=\"M17.41 7.96l-1.37-1.37c-.4-.4-.92-.59-1.43-.59-.52 0-1.04.2-1.43.59L10.3 9.45l-7.72 7.72c-.78.78-.78 2.05 0 2.83L4 21.41c.39.39.9.59 1.41.59.51 0 1.02-.2 1.41-.59l7.78-7.78 2.81-2.81c.8-.78.8-2.07 0-2.86zM5.41 20L4 18.59l7.72-7.72 1.47 1.35L5.41 20z\"/>\n",
              "  </svg>\n",
              "      </button>\n",
              "      \n",
              "  <style>\n",
              "    .colab-df-container {\n",
              "      display:flex;\n",
              "      flex-wrap:wrap;\n",
              "      gap: 12px;\n",
              "    }\n",
              "\n",
              "    .colab-df-convert {\n",
              "      background-color: #E8F0FE;\n",
              "      border: none;\n",
              "      border-radius: 50%;\n",
              "      cursor: pointer;\n",
              "      display: none;\n",
              "      fill: #1967D2;\n",
              "      height: 32px;\n",
              "      padding: 0 0 0 0;\n",
              "      width: 32px;\n",
              "    }\n",
              "\n",
              "    .colab-df-convert:hover {\n",
              "      background-color: #E2EBFA;\n",
              "      box-shadow: 0px 1px 2px rgba(60, 64, 67, 0.3), 0px 1px 3px 1px rgba(60, 64, 67, 0.15);\n",
              "      fill: #174EA6;\n",
              "    }\n",
              "\n",
              "    [theme=dark] .colab-df-convert {\n",
              "      background-color: #3B4455;\n",
              "      fill: #D2E3FC;\n",
              "    }\n",
              "\n",
              "    [theme=dark] .colab-df-convert:hover {\n",
              "      background-color: #434B5C;\n",
              "      box-shadow: 0px 1px 3px 1px rgba(0, 0, 0, 0.15);\n",
              "      filter: drop-shadow(0px 1px 2px rgba(0, 0, 0, 0.3));\n",
              "      fill: #FFFFFF;\n",
              "    }\n",
              "  </style>\n",
              "\n",
              "      <script>\n",
              "        const buttonEl =\n",
              "          document.querySelector('#df-a78c538b-e450-4806-825c-98835e379260 button.colab-df-convert');\n",
              "        buttonEl.style.display =\n",
              "          google.colab.kernel.accessAllowed ? 'block' : 'none';\n",
              "\n",
              "        async function convertToInteractive(key) {\n",
              "          const element = document.querySelector('#df-a78c538b-e450-4806-825c-98835e379260');\n",
              "          const dataTable =\n",
              "            await google.colab.kernel.invokeFunction('convertToInteractive',\n",
              "                                                     [key], {});\n",
              "          if (!dataTable) return;\n",
              "\n",
              "          const docLinkHtml = 'Like what you see? Visit the ' +\n",
              "            '<a target=\"_blank\" href=https://colab.research.google.com/notebooks/data_table.ipynb>data table notebook</a>'\n",
              "            + ' to learn more about interactive tables.';\n",
              "          element.innerHTML = '';\n",
              "          dataTable['output_type'] = 'display_data';\n",
              "          await google.colab.output.renderOutput(dataTable, element);\n",
              "          const docLink = document.createElement('div');\n",
              "          docLink.innerHTML = docLinkHtml;\n",
              "          element.appendChild(docLink);\n",
              "        }\n",
              "      </script>\n",
              "    </div>\n",
              "  </div>\n",
              "  "
            ]
          },
          "metadata": {},
          "execution_count": 8
        }
      ],
      "source": [
        "reviews_data.rename(columns={'asin':'ProductId', 'overall':'Score', 'reviewText':'Text', 'reviewerID':'UserId', 'summary':'Summary', 'unixReviewTime':'Time'}, inplace=True)\n",
        "\n",
        "reviews_data.head()"
      ]
    },
    {
      "cell_type": "code",
      "execution_count": 9,
      "metadata": {
        "colab": {
          "base_uri": "https://localhost:8080/",
          "height": 206
        },
        "id": "SyRNOllhWm2L",
        "outputId": "ddc812d5-eb3d-43b0-d1dc-ca29ccfc6f3a"
      },
      "outputs": [
        {
          "output_type": "execute_result",
          "data": {
            "text/plain": [
              "   Unnamed: 0.1   ProductId  rating  \\\n",
              "0         11539  B0033UV8HI       3   \n",
              "1          5957  B002HJV4DE       5   \n",
              "2          9146  B002ZG96I4       3   \n",
              "3          7038  B002QHWOEU       3   \n",
              "4          1776  B001A06VJ8       4   \n",
              "\n",
              "                                                Text          UserId  \\\n",
              "0  jace rankin may be short, but he's nothing to ...  A3HHXRELK8BHQG   \n",
              "1  great short read.  i didn't want to put it dow...  A2RGNZ0TRF578I   \n",
              "2  i'll start by saying this is the first of four...  A3S0H2HV6U1I7F   \n",
              "3  aggie is angela lansbury who carries pocketboo...   AC4OQW3GZ919J   \n",
              "4  i did not expect this type of book to be in li...  A3C9V987IQHOQD   \n",
              "\n",
              "                    Summary        Time  \n",
              "0  Entertaining But Average  1283385600  \n",
              "1   Terrific menage scenes!  1381190400  \n",
              "2          Snapdragon Alley  1397174400  \n",
              "3    very light murder cozy  1404518400  \n",
              "4                      Book  1356912000  "
            ],
            "text/html": [
              "\n",
              "  <div id=\"df-e3df3bf9-8172-452f-be33-e9a4eefe4c34\">\n",
              "    <div class=\"colab-df-container\">\n",
              "      <div>\n",
              "<style scoped>\n",
              "    .dataframe tbody tr th:only-of-type {\n",
              "        vertical-align: middle;\n",
              "    }\n",
              "\n",
              "    .dataframe tbody tr th {\n",
              "        vertical-align: top;\n",
              "    }\n",
              "\n",
              "    .dataframe thead th {\n",
              "        text-align: right;\n",
              "    }\n",
              "</style>\n",
              "<table border=\"1\" class=\"dataframe\">\n",
              "  <thead>\n",
              "    <tr style=\"text-align: right;\">\n",
              "      <th></th>\n",
              "      <th>Unnamed: 0.1</th>\n",
              "      <th>ProductId</th>\n",
              "      <th>rating</th>\n",
              "      <th>Text</th>\n",
              "      <th>UserId</th>\n",
              "      <th>Summary</th>\n",
              "      <th>Time</th>\n",
              "    </tr>\n",
              "  </thead>\n",
              "  <tbody>\n",
              "    <tr>\n",
              "      <th>0</th>\n",
              "      <td>11539</td>\n",
              "      <td>B0033UV8HI</td>\n",
              "      <td>3</td>\n",
              "      <td>jace rankin may be short, but he's nothing to ...</td>\n",
              "      <td>A3HHXRELK8BHQG</td>\n",
              "      <td>Entertaining But Average</td>\n",
              "      <td>1283385600</td>\n",
              "    </tr>\n",
              "    <tr>\n",
              "      <th>1</th>\n",
              "      <td>5957</td>\n",
              "      <td>B002HJV4DE</td>\n",
              "      <td>5</td>\n",
              "      <td>great short read.  i didn't want to put it dow...</td>\n",
              "      <td>A2RGNZ0TRF578I</td>\n",
              "      <td>Terrific menage scenes!</td>\n",
              "      <td>1381190400</td>\n",
              "    </tr>\n",
              "    <tr>\n",
              "      <th>2</th>\n",
              "      <td>9146</td>\n",
              "      <td>B002ZG96I4</td>\n",
              "      <td>3</td>\n",
              "      <td>i'll start by saying this is the first of four...</td>\n",
              "      <td>A3S0H2HV6U1I7F</td>\n",
              "      <td>Snapdragon Alley</td>\n",
              "      <td>1397174400</td>\n",
              "    </tr>\n",
              "    <tr>\n",
              "      <th>3</th>\n",
              "      <td>7038</td>\n",
              "      <td>B002QHWOEU</td>\n",
              "      <td>3</td>\n",
              "      <td>aggie is angela lansbury who carries pocketboo...</td>\n",
              "      <td>AC4OQW3GZ919J</td>\n",
              "      <td>very light murder cozy</td>\n",
              "      <td>1404518400</td>\n",
              "    </tr>\n",
              "    <tr>\n",
              "      <th>4</th>\n",
              "      <td>1776</td>\n",
              "      <td>B001A06VJ8</td>\n",
              "      <td>4</td>\n",
              "      <td>i did not expect this type of book to be in li...</td>\n",
              "      <td>A3C9V987IQHOQD</td>\n",
              "      <td>Book</td>\n",
              "      <td>1356912000</td>\n",
              "    </tr>\n",
              "  </tbody>\n",
              "</table>\n",
              "</div>\n",
              "      <button class=\"colab-df-convert\" onclick=\"convertToInteractive('df-e3df3bf9-8172-452f-be33-e9a4eefe4c34')\"\n",
              "              title=\"Convert this dataframe to an interactive table.\"\n",
              "              style=\"display:none;\">\n",
              "        \n",
              "  <svg xmlns=\"http://www.w3.org/2000/svg\" height=\"24px\"viewBox=\"0 0 24 24\"\n",
              "       width=\"24px\">\n",
              "    <path d=\"M0 0h24v24H0V0z\" fill=\"none\"/>\n",
              "    <path d=\"M18.56 5.44l.94 2.06.94-2.06 2.06-.94-2.06-.94-.94-2.06-.94 2.06-2.06.94zm-11 1L8.5 8.5l.94-2.06 2.06-.94-2.06-.94L8.5 2.5l-.94 2.06-2.06.94zm10 10l.94 2.06.94-2.06 2.06-.94-2.06-.94-.94-2.06-.94 2.06-2.06.94z\"/><path d=\"M17.41 7.96l-1.37-1.37c-.4-.4-.92-.59-1.43-.59-.52 0-1.04.2-1.43.59L10.3 9.45l-7.72 7.72c-.78.78-.78 2.05 0 2.83L4 21.41c.39.39.9.59 1.41.59.51 0 1.02-.2 1.41-.59l7.78-7.78 2.81-2.81c.8-.78.8-2.07 0-2.86zM5.41 20L4 18.59l7.72-7.72 1.47 1.35L5.41 20z\"/>\n",
              "  </svg>\n",
              "      </button>\n",
              "      \n",
              "  <style>\n",
              "    .colab-df-container {\n",
              "      display:flex;\n",
              "      flex-wrap:wrap;\n",
              "      gap: 12px;\n",
              "    }\n",
              "\n",
              "    .colab-df-convert {\n",
              "      background-color: #E8F0FE;\n",
              "      border: none;\n",
              "      border-radius: 50%;\n",
              "      cursor: pointer;\n",
              "      display: none;\n",
              "      fill: #1967D2;\n",
              "      height: 32px;\n",
              "      padding: 0 0 0 0;\n",
              "      width: 32px;\n",
              "    }\n",
              "\n",
              "    .colab-df-convert:hover {\n",
              "      background-color: #E2EBFA;\n",
              "      box-shadow: 0px 1px 2px rgba(60, 64, 67, 0.3), 0px 1px 3px 1px rgba(60, 64, 67, 0.15);\n",
              "      fill: #174EA6;\n",
              "    }\n",
              "\n",
              "    [theme=dark] .colab-df-convert {\n",
              "      background-color: #3B4455;\n",
              "      fill: #D2E3FC;\n",
              "    }\n",
              "\n",
              "    [theme=dark] .colab-df-convert:hover {\n",
              "      background-color: #434B5C;\n",
              "      box-shadow: 0px 1px 3px 1px rgba(0, 0, 0, 0.15);\n",
              "      filter: drop-shadow(0px 1px 2px rgba(0, 0, 0, 0.3));\n",
              "      fill: #FFFFFF;\n",
              "    }\n",
              "  </style>\n",
              "\n",
              "      <script>\n",
              "        const buttonEl =\n",
              "          document.querySelector('#df-e3df3bf9-8172-452f-be33-e9a4eefe4c34 button.colab-df-convert');\n",
              "        buttonEl.style.display =\n",
              "          google.colab.kernel.accessAllowed ? 'block' : 'none';\n",
              "\n",
              "        async function convertToInteractive(key) {\n",
              "          const element = document.querySelector('#df-e3df3bf9-8172-452f-be33-e9a4eefe4c34');\n",
              "          const dataTable =\n",
              "            await google.colab.kernel.invokeFunction('convertToInteractive',\n",
              "                                                     [key], {});\n",
              "          if (!dataTable) return;\n",
              "\n",
              "          const docLinkHtml = 'Like what you see? Visit the ' +\n",
              "            '<a target=\"_blank\" href=https://colab.research.google.com/notebooks/data_table.ipynb>data table notebook</a>'\n",
              "            + ' to learn more about interactive tables.';\n",
              "          element.innerHTML = '';\n",
              "          dataTable['output_type'] = 'display_data';\n",
              "          await google.colab.output.renderOutput(dataTable, element);\n",
              "          const docLink = document.createElement('div');\n",
              "          docLink.innerHTML = docLinkHtml;\n",
              "          element.appendChild(docLink);\n",
              "        }\n",
              "      </script>\n",
              "    </div>\n",
              "  </div>\n",
              "  "
            ]
          },
          "metadata": {},
          "execution_count": 9
        }
      ],
      "source": [
        "reviews_data.drop(['Unnamed: 0','helpful','reviewTime','reviewerName'], axis=1, inplace=True)\n",
        "\n",
        "reviews_data.head()"
      ]
    },
    {
      "cell_type": "code",
      "execution_count": 10,
      "metadata": {
        "colab": {
          "base_uri": "https://localhost:8080/",
          "height": 400
        },
        "id": "gWWNMvyKWmyg",
        "outputId": "ef254b89-7897-484d-f23a-3e8651df5577"
      },
      "outputs": [
        {
          "output_type": "display_data",
          "data": {
            "text/plain": [
              "<Figure size 720x432 with 1 Axes>"
            ],
            "image/png": "[encoded data removed]"
          },
          "metadata": {
            "needs_background": "light"
          }
        }
      ],
      "source": [
        "category_dist = reviews_data['rating'].value_counts()\n",
        "\n",
        "plt.figure(figsize=(10,6))\n",
        "my_colors = ['g', 'r', 'b', 'm', 'y']\n",
        "category_dist.plot(kind='bar', color=my_colors)\n",
        "plt.grid()\n",
        "plt.xlabel(\"rate\")\n",
        "plt.ylabel(\"Number of Reviews Per Score\")\n",
        "plt.title(\"Distribution of Reviews Per Score\")\n",
        "plt.show()"
      ]
    },
    {
      "cell_type": "code",
      "execution_count": 11,
      "metadata": {
        "colab": {
          "base_uri": "https://localhost:8080/",
          "height": 206
        },
        "id": "lcsuSWdEWmtp",
        "outputId": "f471a060-c091-4770-e374-b207d4a2b1fa"
      },
      "outputs": [
        {
          "output_type": "execute_result",
          "data": {
            "text/plain": [
              "   Unnamed: 0.1   ProductId    rating  \\\n",
              "0         11539  B0033UV8HI  Positive   \n",
              "1          5957  B002HJV4DE  Positive   \n",
              "2          9146  B002ZG96I4  Positive   \n",
              "3          7038  B002QHWOEU  Positive   \n",
              "4          1776  B001A06VJ8  Positive   \n",
              "\n",
              "                                                Text          UserId  \\\n",
              "0  jace rankin may be short, but he's nothing to ...  A3HHXRELK8BHQG   \n",
              "1  great short read.  i didn't want to put it dow...  A2RGNZ0TRF578I   \n",
              "2  i'll start by saying this is the first of four...  A3S0H2HV6U1I7F   \n",
              "3  aggie is angela lansbury who carries pocketboo...   AC4OQW3GZ919J   \n",
              "4  i did not expect this type of book to be in li...  A3C9V987IQHOQD   \n",
              "\n",
              "                    Summary        Time  \n",
              "0  Entertaining But Average  1283385600  \n",
              "1   Terrific menage scenes!  1381190400  \n",
              "2          Snapdragon Alley  1397174400  \n",
              "3    very light murder cozy  1404518400  \n",
              "4                      Book  1356912000  "
            ],
            "text/html": [
              "\n",
              "  <div id=\"df-3eb04f37-cc55-46bf-8626-f7dcb2593f51\">\n",
              "    <div class=\"colab-df-container\">\n",
              "      <div>\n",
              "<style scoped>\n",
              "    .dataframe tbody tr th:only-of-type {\n",
              "        vertical-align: middle;\n",
              "    }\n",
              "\n",
              "    .dataframe tbody tr th {\n",
              "        vertical-align: top;\n",
              "    }\n",
              "\n",
              "    .dataframe thead th {\n",
              "        text-align: right;\n",
              "    }\n",
              "</style>\n",
              "<table border=\"1\" class=\"dataframe\">\n",
              "  <thead>\n",
              "    <tr style=\"text-align: right;\">\n",
              "      <th></th>\n",
              "      <th>Unnamed: 0.1</th>\n",
              "      <th>ProductId</th>\n",
              "      <th>rating</th>\n",
              "      <th>Text</th>\n",
              "      <th>UserId</th>\n",
              "      <th>Summary</th>\n",
              "      <th>Time</th>\n",
              "    </tr>\n",
              "  </thead>\n",
              "  <tbody>\n",
              "    <tr>\n",
              "      <th>0</th>\n",
              "      <td>11539</td>\n",
              "      <td>B0033UV8HI</td>\n",
              "      <td>Positive</td>\n",
              "      <td>jace rankin may be short, but he's nothing to ...</td>\n",
              "      <td>A3HHXRELK8BHQG</td>\n",
              "      <td>Entertaining But Average</td>\n",
              "      <td>1283385600</td>\n",
              "    </tr>\n",
              "    <tr>\n",
              "      <th>1</th>\n",
              "      <td>5957</td>\n",
              "      <td>B002HJV4DE</td>\n",
              "      <td>Positive</td>\n",
              "      <td>great short read.  i didn't want to put it dow...</td>\n",
              "      <td>A2RGNZ0TRF578I</td>\n",
              "      <td>Terrific menage scenes!</td>\n",
              "      <td>1381190400</td>\n",
              "    </tr>\n",
              "    <tr>\n",
              "      <th>2</th>\n",
              "      <td>9146</td>\n",
              "      <td>B002ZG96I4</td>\n",
              "      <td>Positive</td>\n",
              "      <td>i'll start by saying this is the first of four...</td>\n",
              "      <td>A3S0H2HV6U1I7F</td>\n",
              "      <td>Snapdragon Alley</td>\n",
              "      <td>1397174400</td>\n",
              "    </tr>\n",
              "    <tr>\n",
              "      <th>3</th>\n",
              "      <td>7038</td>\n",
              "      <td>B002QHWOEU</td>\n",
              "      <td>Positive</td>\n",
              "      <td>aggie is angela lansbury who carries pocketboo...</td>\n",
              "      <td>AC4OQW3GZ919J</td>\n",
              "      <td>very light murder cozy</td>\n",
              "      <td>1404518400</td>\n",
              "    </tr>\n",
              "    <tr>\n",
              "      <th>4</th>\n",
              "      <td>1776</td>\n",
              "      <td>B001A06VJ8</td>\n",
              "      <td>Positive</td>\n",
              "      <td>i did not expect this type of book to be in li...</td>\n",
              "      <td>A3C9V987IQHOQD</td>\n",
              "      <td>Book</td>\n",
              "      <td>1356912000</td>\n",
              "    </tr>\n",
              "  </tbody>\n",
              "</table>\n",
              "</div>\n",
              "      <button class=\"colab-df-convert\" onclick=\"convertToInteractive('df-3eb04f37-cc55-46bf-8626-f7dcb2593f51')\"\n",
              "              title=\"Convert this dataframe to an interactive table.\"\n",
              "              style=\"display:none;\">\n",
              "        \n",
              "  <svg xmlns=\"http://www.w3.org/2000/svg\" height=\"24px\"viewBox=\"0 0 24 24\"\n",
              "       width=\"24px\">\n",
              "    <path d=\"M0 0h24v24H0V0z\" fill=\"none\"/>\n",
              "    <path d=\"M18.56 5.44l.94 2.06.94-2.06 2.06-.94-2.06-.94-.94-2.06-.94 2.06-2.06.94zm-11 1L8.5 8.5l.94-2.06 2.06-.94-2.06-.94L8.5 2.5l-.94 2.06-2.06.94zm10 10l.94 2.06.94-2.06 2.06-.94-2.06-.94-.94-2.06-.94 2.06-2.06.94z\"/><path d=\"M17.41 7.96l-1.37-1.37c-.4-.4-.92-.59-1.43-.59-.52 0-1.04.2-1.43.59L10.3 9.45l-7.72 7.72c-.78.78-.78 2.05 0 2.83L4 21.41c.39.39.9.59 1.41.59.51 0 1.02-.2 1.41-.59l7.78-7.78 2.81-2.81c.8-.78.8-2.07 0-2.86zM5.41 20L4 18.59l7.72-7.72 1.47 1.35L5.41 20z\"/>\n",
              "  </svg>\n",
              "      </button>\n",
              "      \n",
              "  <style>\n",
              "    .colab-df-container {\n",
              "      display:flex;\n",
              "      flex-wrap:wrap;\n",
              "      gap: 12px;\n",
              "    }\n",
              "\n",
              "    .colab-df-convert {\n",
              "      background-color: #E8F0FE;\n",
              "      border: none;\n",
              "      border-radius: 50%;\n",
              "      cursor: pointer;\n",
              "      display: none;\n",
              "      fill: #1967D2;\n",
              "      height: 32px;\n",
              "      padding: 0 0 0 0;\n",
              "      width: 32px;\n",
              "    }\n",
              "\n",
              "    .colab-df-convert:hover {\n",
              "      background-color: #E2EBFA;\n",
              "      box-shadow: 0px 1px 2px rgba(60, 64, 67, 0.3), 0px 1px 3px 1px rgba(60, 64, 67, 0.15);\n",
              "      fill: #174EA6;\n",
              "    }\n",
              "\n",
              "    [theme=dark] .colab-df-convert {\n",
              "      background-color: #3B4455;\n",
              "      fill: #D2E3FC;\n",
              "    }\n",
              "\n",
              "    [theme=dark] .colab-df-convert:hover {\n",
              "      background-color: #434B5C;\n",
              "      box-shadow: 0px 1px 3px 1px rgba(0, 0, 0, 0.15);\n",
              "      filter: drop-shadow(0px 1px 2px rgba(0, 0, 0, 0.3));\n",
              "      fill: #FFFFFF;\n",
              "    }\n",
              "  </style>\n",
              "\n",
              "      <script>\n",
              "        const buttonEl =\n",
              "          document.querySelector('#df-3eb04f37-cc55-46bf-8626-f7dcb2593f51 button.colab-df-convert');\n",
              "        buttonEl.style.display =\n",
              "          google.colab.kernel.accessAllowed ? 'block' : 'none';\n",
              "\n",
              "        async function convertToInteractive(key) {\n",
              "          const element = document.querySelector('#df-3eb04f37-cc55-46bf-8626-f7dcb2593f51');\n",
              "          const dataTable =\n",
              "            await google.colab.kernel.invokeFunction('convertToInteractive',\n",
              "                                                     [key], {});\n",
              "          if (!dataTable) return;\n",
              "\n",
              "          const docLinkHtml = 'Like what you see? Visit the ' +\n",
              "            '<a target=\"_blank\" href=https://colab.research.google.com/notebooks/data_table.ipynb>data table notebook</a>'\n",
              "            + ' to learn more about interactive tables.';\n",
              "          element.innerHTML = '';\n",
              "          dataTable['output_type'] = 'display_data';\n",
              "          await google.colab.output.renderOutput(dataTable, element);\n",
              "          const docLink = document.createElement('div');\n",
              "          docLink.innerHTML = docLinkHtml;\n",
              "          element.appendChild(docLink);\n",
              "        }\n",
              "      </script>\n",
              "    </div>\n",
              "  </div>\n",
              "  "
            ]
          },
          "metadata": {},
          "execution_count": 11
        }
      ],
      "source": [
        "def partition(x):\n",
        "    if x < 3:\n",
        "        return 'Negative'\n",
        "    else:\n",
        "        return 'Positive'\n",
        "\n",
        "actualScore = reviews_data['rating']\n",
        "pos_neg = actualScore.map(partition)\n",
        "reviews_data['rating'] = pos_neg\n",
        "\n",
        "reviews_data.head()"
      ]
    },
    {
      "cell_type": "code",
      "execution_count": 12,
      "metadata": {
        "colab": {
          "base_uri": "https://localhost:8080/",
          "height": 440
        },
        "id": "dI5WMDlWW6Tb",
        "outputId": "27a20bcb-147f-4832-faa3-aefd2e060bf4"
      },
      "outputs": [
        {
          "output_type": "display_data",
          "data": {
            "text/plain": [
              "<Figure size 720x432 with 1 Axes>"
            ],
            "image/png": "[encoded data removed]"
          },
          "metadata": {
            "needs_background": "light"
          }
        }
      ],
      "source": [
        "category_dist = reviews_data['rating'].value_counts()\n",
        "\n",
        "plt.figure(figsize=(10,6))\n",
        "my_colors = ['y', 'b']\n",
        "category_dist.plot(kind='bar', color=my_colors)\n",
        "plt.grid()\n",
        "plt.xlabel(\"rating\")\n",
        "plt.ylabel(\"Number of Reviews\")\n",
        "plt.title(\"Distribution of Reviews\")\n",
        "plt.show()"
      ]
    },
    {
      "cell_type": "code",
      "execution_count": 13,
      "metadata": {
        "id": "KHr9giMaW6Pz"
      },
      "outputs": [],
      "source": [
        "reviews_data = reviews_data.sort_values('ProductId', axis=0, ascending=True, inplace=False, kind='quicksort', na_position='last')"
      ]
    },
    {
      "cell_type": "code",
      "execution_count": 14,
      "metadata": {
        "colab": {
          "base_uri": "https://localhost:8080/"
        },
        "id": "R1ODJiizW6Ks",
        "outputId": "edc38244-5eca-4614-fbaf-9784dfdda466"
      },
      "outputs": [
        {
          "output_type": "execute_result",
          "data": {
            "text/plain": [
              "(12000, 7)"
            ]
          },
          "metadata": {},
          "execution_count": 14
        }
      ],
      "source": [
        "reviews_data = reviews_data.drop_duplicates(subset={\"ProductId\",\"UserId\",\"Time\",\"Text\"}, keep='first', inplace=False)\n",
        "reviews_data.shape"
      ]
    },
    {
      "cell_type": "code",
      "execution_count": 15,
      "metadata": {
        "colab": {
          "base_uri": "https://localhost:8080/"
        },
        "id": "V5u_MeiGXcso",
        "outputId": "b356d8eb-439b-48a1-98fd-806af5cdafe6"
      },
      "outputs": [
        {
          "output_type": "execute_result",
          "data": {
            "text/plain": [
              "Positive    8000\n",
              "Negative    4000\n",
              "Name: rating, dtype: int64"
            ]
          },
          "metadata": {},
          "execution_count": 15
        }
      ],
      "source": [
        "reviews_data['rating'].value_counts()"
      ]
    },
    {
      "cell_type": "code",
      "execution_count": 16,
      "metadata": {
        "id": "I-EEiqqkXcnI"
      },
      "outputs": [],
      "source": [
        "cls_majority = reviews_data[reviews_data['rating']=='Positive'].head(4000).copy()\n",
        "cls_minority1   = reviews_data[reviews_data['rating']=='Negative'].copy()\n",
        "upsampled_data = pd.concat([cls_minority1 , cls_majority])"
      ]
    },
    {
      "cell_type": "code",
      "execution_count": 17,
      "metadata": {
        "colab": {
          "base_uri": "https://localhost:8080/",
          "height": 206
        },
        "id": "OmHp07CoXch7",
        "outputId": "b987cc45-8c6b-421e-accf-f8f55ba60c3b"
      },
      "outputs": [
        {
          "output_type": "execute_result",
          "data": {
            "text/plain": [
              "       Unnamed: 0.1   ProductId    rating  \\\n",
              "1555             21  B000FA64QO  Negative   \n",
              "7213             42  B000FC1BN8  Negative   \n",
              "11673            39  B000FC1BN8  Negative   \n",
              "3379             65  B000FDJ0FS  Negative   \n",
              "2139             67  B000FDJ0FS  Negative   \n",
              "\n",
              "                                                    Text          UserId  \\\n",
              "1555   with ylesia, a novella originally published in...  A3SZMGJMV0G16C   \n",
              "7213   i admit it, i snapped this up the moment i saw...  A1YEPFLLH42OU1   \n",
              "11673  for whatever reason, star wars short stories a...   AQZH7YTWQPOBE   \n",
              "3379   somewhat of a disappointment.  the articles we...  A2XGPSOJXTW5JF   \n",
              "2139   the wsj for kindle is overpriced, and the cust...  A3775OP5VTX5ON   \n",
              "\n",
              "                               Summary        Time  label  \n",
              "1555   Minor New Jedi Order side story  1331769600      0  \n",
              "7213            An average short story  1358380800      0  \n",
              "11673      Too short, not enough story  1285286400      0  \n",
              "3379               Wall Street Journal  1355356800      0  \n",
              "2139          The WSJ Has Gone to Pot!  1203984000      0  "
            ],
            "text/html": [
              "\n",
              "  <div id=\"df-885e083b-90b5-42df-a9fb-cd70a5cf9df1\">\n",
              "    <div class=\"colab-df-container\">\n",
              "      <div>\n",
              "<style scoped>\n",
              "    .dataframe tbody tr th:only-of-type {\n",
              "        vertical-align: middle;\n",
              "    }\n",
              "\n",
              "    .dataframe tbody tr th {\n",
              "        vertical-align: top;\n",
              "    }\n",
              "\n",
              "    .dataframe thead th {\n",
              "        text-align: right;\n",
              "    }\n",
              "</style>\n",
              "<table border=\"1\" class=\"dataframe\">\n",
              "  <thead>\n",
              "    <tr style=\"text-align: right;\">\n",
              "      <th></th>\n",
              "      <th>Unnamed: 0.1</th>\n",
              "      <th>ProductId</th>\n",
              "      <th>rating</th>\n",
              "      <th>Text</th>\n",
              "      <th>UserId</th>\n",
              "      <th>Summary</th>\n",
              "      <th>Time</th>\n",
              "      <th>label</th>\n",
              "    </tr>\n",
              "  </thead>\n",
              "  <tbody>\n",
              "    <tr>\n",
              "      <th>1555</th>\n",
              "      <td>21</td>\n",
              "      <td>B000FA64QO</td>\n",
              "      <td>Negative</td>\n",
              "      <td>with ylesia, a novella originally published in...</td>\n",
              "      <td>A3SZMGJMV0G16C</td>\n",
              "      <td>Minor New Jedi Order side story</td>\n",
              "      <td>1331769600</td>\n",
              "      <td>0</td>\n",
              "    </tr>\n",
              "    <tr>\n",
              "      <th>7213</th>\n",
              "      <td>42</td>\n",
              "      <td>B000FC1BN8</td>\n",
              "      <td>Negative</td>\n",
              "      <td>i admit it, i snapped this up the moment i saw...</td>\n",
              "      <td>A1YEPFLLH42OU1</td>\n",
              "      <td>An average short story</td>\n",
              "      <td>1358380800</td>\n",
              "      <td>0</td>\n",
              "    </tr>\n",
              "    <tr>\n",
              "      <th>11673</th>\n",
              "      <td>39</td>\n",
              "      <td>B000FC1BN8</td>\n",
              "      <td>Negative</td>\n",
              "      <td>for whatever reason, star wars short stories a...</td>\n",
              "      <td>AQZH7YTWQPOBE</td>\n",
              "      <td>Too short, not enough story</td>\n",
              "      <td>1285286400</td>\n",
              "      <td>0</td>\n",
              "    </tr>\n",
              "    <tr>\n",
              "      <th>3379</th>\n",
              "      <td>65</td>\n",
              "      <td>B000FDJ0FS</td>\n",
              "      <td>Negative</td>\n",
              "      <td>somewhat of a disappointment.  the articles we...</td>\n",
              "      <td>A2XGPSOJXTW5JF</td>\n",
              "      <td>Wall Street Journal</td>\n",
              "      <td>1355356800</td>\n",
              "      <td>0</td>\n",
              "    </tr>\n",
              "    <tr>\n",
              "      <th>2139</th>\n",
              "      <td>67</td>\n",
              "      <td>B000FDJ0FS</td>\n",
              "      <td>Negative</td>\n",
              "      <td>the wsj for kindle is overpriced, and the cust...</td>\n",
              "      <td>A3775OP5VTX5ON</td>\n",
              "      <td>The WSJ Has Gone to Pot!</td>\n",
              "      <td>1203984000</td>\n",
              "      <td>0</td>\n",
              "    </tr>\n",
              "  </tbody>\n",
              "</table>\n",
              "</div>\n",
              "      <button class=\"colab-df-convert\" onclick=\"convertToInteractive('df-885e083b-90b5-42df-a9fb-cd70a5cf9df1')\"\n",
              "              title=\"Convert this dataframe to an interactive table.\"\n",
              "              style=\"display:none;\">\n",
              "        \n",
              "  <svg xmlns=\"http://www.w3.org/2000/svg\" height=\"24px\"viewBox=\"0 0 24 24\"\n",
              "       width=\"24px\">\n",
              "    <path d=\"M0 0h24v24H0V0z\" fill=\"none\"/>\n",
              "    <path d=\"M18.56 5.44l.94 2.06.94-2.06 2.06-.94-2.06-.94-.94-2.06-.94 2.06-2.06.94zm-11 1L8.5 8.5l.94-2.06 2.06-.94-2.06-.94L8.5 2.5l-.94 2.06-2.06.94zm10 10l.94 2.06.94-2.06 2.06-.94-2.06-.94-.94-2.06-.94 2.06-2.06.94z\"/><path d=\"M17.41 7.96l-1.37-1.37c-.4-.4-.92-.59-1.43-.59-.52 0-1.04.2-1.43.59L10.3 9.45l-7.72 7.72c-.78.78-.78 2.05 0 2.83L4 21.41c.39.39.9.59 1.41.59.51 0 1.02-.2 1.41-.59l7.78-7.78 2.81-2.81c.8-.78.8-2.07 0-2.86zM5.41 20L4 18.59l7.72-7.72 1.47 1.35L5.41 20z\"/>\n",
              "  </svg>\n",
              "      </button>\n",
              "      \n",
              "  <style>\n",
              "    .colab-df-container {\n",
              "      display:flex;\n",
              "      flex-wrap:wrap;\n",
              "      gap: 12px;\n",
              "    }\n",
              "\n",
              "    .colab-df-convert {\n",
              "      background-color: #E8F0FE;\n",
              "      border: none;\n",
              "      border-radius: 50%;\n",
              "      cursor: pointer;\n",
              "      display: none;\n",
              "      fill: #1967D2;\n",
              "      height: 32px;\n",
              "      padding: 0 0 0 0;\n",
              "      width: 32px;\n",
              "    }\n",
              "\n",
              "    .colab-df-convert:hover {\n",
              "      background-color: #E2EBFA;\n",
              "      box-shadow: 0px 1px 2px rgba(60, 64, 67, 0.3), 0px 1px 3px 1px rgba(60, 64, 67, 0.15);\n",
              "      fill: #174EA6;\n",
              "    }\n",
              "\n",
              "    [theme=dark] .colab-df-convert {\n",
              "      background-color: #3B4455;\n",
              "      fill: #D2E3FC;\n",
              "    }\n",
              "\n",
              "    [theme=dark] .colab-df-convert:hover {\n",
              "      background-color: #434B5C;\n",
              "      box-shadow: 0px 1px 3px 1px rgba(0, 0, 0, 0.15);\n",
              "      filter: drop-shadow(0px 1px 2px rgba(0, 0, 0, 0.3));\n",
              "      fill: #FFFFFF;\n",
              "    }\n",
              "  </style>\n",
              "\n",
              "      <script>\n",
              "        const buttonEl =\n",
              "          document.querySelector('#df-885e083b-90b5-42df-a9fb-cd70a5cf9df1 button.colab-df-convert');\n",
              "        buttonEl.style.display =\n",
              "          google.colab.kernel.accessAllowed ? 'block' : 'none';\n",
              "\n",
              "        async function convertToInteractive(key) {\n",
              "          const element = document.querySelector('#df-885e083b-90b5-42df-a9fb-cd70a5cf9df1');\n",
              "          const dataTable =\n",
              "            await google.colab.kernel.invokeFunction('convertToInteractive',\n",
              "                                                     [key], {});\n",
              "          if (!dataTable) return;\n",
              "\n",
              "          const docLinkHtml = 'Like what you see? Visit the ' +\n",
              "            '<a target=\"_blank\" href=https://colab.research.google.com/notebooks/data_table.ipynb>data table notebook</a>'\n",
              "            + ' to learn more about interactive tables.';\n",
              "          element.innerHTML = '';\n",
              "          dataTable['output_type'] = 'display_data';\n",
              "          await google.colab.output.renderOutput(dataTable, element);\n",
              "          const docLink = document.createElement('div');\n",
              "          docLink.innerHTML = docLinkHtml;\n",
              "          element.appendChild(docLink);\n",
              "        }\n",
              "      </script>\n",
              "    </div>\n",
              "  </div>\n",
              "  "
            ]
          },
          "metadata": {},
          "execution_count": 17
        }
      ],
      "source": [
        "from sklearn.preprocessing import LabelEncoder \n",
        "label = LabelEncoder()\n",
        "upsampled_data['label'] = label.fit_transform(upsampled_data['rating'])  \n",
        "upsampled_data.head()"
      ]
    },
    {
      "cell_type": "code",
      "execution_count": 18,
      "metadata": {
        "colab": {
          "base_uri": "https://localhost:8080/"
        },
        "id": "v-ZqWXsVXcaT",
        "outputId": "e6ad4682-86c4-4873-b22b-5abde033699d"
      },
      "outputs": [
        {
          "output_type": "execute_result",
          "data": {
            "text/plain": [
              "(8000, 8)"
            ]
          },
          "metadata": {},
          "execution_count": 18
        }
      ],
      "source": [
        "upsampled_data.shape"
      ]
    },
    {
      "cell_type": "code",
      "execution_count": 19,
      "metadata": {
        "colab": {
          "base_uri": "https://localhost:8080/"
        },
        "id": "Lj-RlK1EZCMd",
        "outputId": "62dcfa17-fcb6-49a7-fa58-4f2b1b165d43"
      },
      "outputs": [
        {
          "output_type": "execute_result",
          "data": {
            "text/plain": [
              "Unnamed: 0.1    0\n",
              "ProductId       0\n",
              "rating          0\n",
              "Text            0\n",
              "UserId          0\n",
              "Summary         0\n",
              "Time            0\n",
              "label           0\n",
              "dtype: int64"
            ]
          },
          "metadata": {},
          "execution_count": 19
        }
      ],
      "source": [
        "upsampled_data.isna().sum()"
      ]
    },
    {
      "cell_type": "code",
      "execution_count": 20,
      "metadata": {
        "id": "qeNTgRd0ZaD8"
      },
      "outputs": [],
      "source": [
        "from sklearn.model_selection import train_test_split\n",
        "train , test =train_test_split(upsampled_data,test_size = 0.3)"
      ]
    },
    {
      "cell_type": "code",
      "execution_count": 25,
      "metadata": {
        "colab": {
          "base_uri": "https://localhost:8080/"
        },
        "id": "ZWSR0B4BZZ7v",
        "outputId": "8b7e3930-b748-4f26-e7f7-25e8e897d9ee"
      },
      "outputs": [
        {
          "output_type": "execute_result",
          "data": {
            "text/plain": [
              "(2400, 8)"
            ]
          },
          "metadata": {},
          "execution_count": 25
        }
      ],
      "source": [
        "test.shape "
      ]
    },
    {
      "cell_type": "code",
      "execution_count": 21,
      "metadata": {
        "colab": {
          "base_uri": "https://localhost:8080/"
        },
        "id": "puOeWl3iwoo2",
        "outputId": "7f874944-c4d6-43f0-c6eb-d88dbff689f6"
      },
      "outputs": [
        {
          "output_type": "execute_result",
          "data": {
            "text/plain": [
              "9236    the one rule of a short story is that it be sh...\n",
              "280     this was perhaps the most surreal little story...\n",
              "3771    a very nice newspaper and very good writing. t...\n",
              "1371    herbert has a gift of setting scene and making...\n",
              "2882    this was a book that i thoroughly enjoyed from...\n",
              "Name: Text, dtype: object"
            ]
          },
          "metadata": {},
          "execution_count": 21
        }
      ],
      "source": [
        "train['Text'].head()"
      ]
    },
    {
      "cell_type": "markdown",
      "source": [
        "### Preprocessing "
      ],
      "metadata": {
        "id": "7Eu8ZR6V3vhT"
      }
    },
    {
      "cell_type": "code",
      "execution_count": 22,
      "metadata": {
        "colab": {
          "base_uri": "https://localhost:8080/"
        },
        "id": "TV6q3TEBbPMz",
        "outputId": "95da77ab-07e2-4042-a3d6-69a8cc7ff291"
      },
      "outputs": [
        {
          "output_type": "stream",
          "name": "stderr",
          "text": [
            "[nltk_data] Downloading package wordnet to /root/nltk_data...\n",
            "[nltk_data] Downloading package stopwords to /root/nltk_data...\n",
            "[nltk_data]   Unzipping corpora/stopwords.zip.\n",
            "[nltk_data] Downloading package punkt to /root/nltk_data...\n",
            "[nltk_data]   Unzipping tokenizers/punkt.zip.\n"
          ]
        }
      ],
      "source": [
        "import nltk\n",
        "nltk.download('wordnet') \n",
        "nltk.download('stopwords')\n",
        "nltk.download('punkt') \n",
        "from nltk.corpus import stopwords \n",
        "STOPWORDS = set(stopwords.words('english')) \n",
        "from nltk.tokenize import word_tokenize \n",
        "import re\n"
      ]
    },
    {
      "cell_type": "code",
      "execution_count": 23,
      "metadata": {
        "colab": {
          "base_uri": "https://localhost:8080/"
        },
        "id": "Mmu2oizpbvE6",
        "outputId": "ae1bd834-5d43-48a6-a342-be56b6333c17"
      },
      "outputs": [
        {
          "output_type": "stream",
          "name": "stdout",
          "text": [
            "Looking in indexes: https://pypi.org/simple, https://us-python.pkg.dev/colab-wheels/public/simple/\n",
            "Requirement already satisfied: inflect in /usr/local/lib/python3.8/dist-packages (2.1.0)\n"
          ]
        }
      ],
      "source": [
        "\n",
        "!pip3 install inflect \n",
        "import inflect \n",
        "p = inflect.engine() \n",
        "from nltk.stem import WordNetLemmatizer \n",
        "import re\n",
        "from nltk.tokenize import word_tokenize\n",
        "import gensim \n",
        "import string"
      ]
    },
    {
      "cell_type": "code",
      "execution_count": 24,
      "metadata": {
        "colab": {
          "base_uri": "https://localhost:8080/"
        },
        "id": "9wrh_UDXCZ75",
        "outputId": "30a63c19-4484-467b-b973-196bc20a1c34"
      },
      "outputs": [
        {
          "output_type": "stream",
          "name": "stderr",
          "text": [
            "[nltk_data] Downloading package omw-1.4 to /root/nltk_data...\n"
          ]
        },
        {
          "output_type": "execute_result",
          "data": {
            "text/plain": [
              "True"
            ]
          },
          "metadata": {},
          "execution_count": 24
        }
      ],
      "source": [
        "nltk.download('omw-1.4')"
      ]
    },
    {
      "cell_type": "code",
      "execution_count": 25,
      "metadata": {
        "id": "Z5gCm2AxCCWC"
      },
      "outputs": [],
      "source": [
        "from nltk.corpus import wordnet as wn"
      ]
    },
    {
      "cell_type": "code",
      "execution_count": 26,
      "metadata": {
        "id": "Sx0N20DkcpHH"
      },
      "outputs": [],
      "source": [
        "def text_Preprocessing (text):\n",
        "    def remove_emoji(text): \n",
        "      emoji_pattern= re.compile(\"[\" \n",
        "                                u\"\\U0001F600-\\U0001F64F\"\n",
        "                                u\"\\U0001F300-\\U0001F5FF\"  \n",
        "                                u\"\\U0001F680-\\U0001F6FF\"  \n",
        "                                u\"\\U0001F1E0-\\U0001F1FF\" \n",
        "                                u\"\\U00002702-\\U00002780\"  \n",
        "                                u\"\\U00002402-\\U0001F251\" \"]+\", flags=re. UNICODE) \n",
        "      return emoji_pattern.sub(r'', text) \n",
        "    reviews =[text.lower() for text in text] \n",
        "    reviews =[re.sub (r'\\S+@\\S+','', text) for text in reviews] \n",
        "    reviews =[re.sub (r'\\d+','', text) for text in reviews] \n",
        "    reviews =[re.sub(r'[^\\w\\s]','',text) for text in reviews] #removing all the #removing extra sp \n",
        "    reviews =[text.strip() for text in reviews] \n",
        "    reviews =[remove_emoji(text) for text in reviews] \n",
        "   \n",
        "    stop_words= set(stopwords.words('english')) \n",
        "    cleaned_reviews=[] \n",
        "    for review in reviews:\n",
        "         tokens = [word for word in word_tokenize (review) if not word in stop_words] \n",
        "         cleaned_reviews.append(\" \".join(tokens))\n",
        "        \n",
        "    lemmatize = WordNetLemmatizer() \n",
        "    lem_reviews=[] \n",
        "    for review in cleaned_reviews:\n",
        "       lem_reviews.append(\" \".join(list(map(lemmatize.lemmatize, word_tokenize (review)))))\n",
        "    return lem_reviews  "
      ]
    },
    {
      "cell_type": "code",
      "execution_count": 27,
      "metadata": {
        "id": "_UHFtEpMco8m"
      },
      "outputs": [],
      "source": [
        "t=train['Text']\n",
        "train['Text'] = text_Preprocessing(t)"
      ]
    },
    {
      "cell_type": "code",
      "execution_count": 28,
      "metadata": {
        "id": "kLMMNHgZtlS2"
      },
      "outputs": [],
      "source": [
        "t=test['Text']\n",
        "test['Text'] = text_Preprocessing(t)"
      ]
    },
    {
      "cell_type": "code",
      "execution_count": 29,
      "metadata": {
        "id": "fcl_mJVWuh--"
      },
      "outputs": [],
      "source": [
        "train['word counts after preprocess']=train['Text'].apply(lambda x: len(str(x.split())))\n",
        "test['word_counts after preprocess']= test['Text'].apply(lambda x: len(str(x.split())))"
      ]
    },
    {
      "cell_type": "code",
      "execution_count": 30,
      "metadata": {
        "colab": {
          "base_uri": "https://localhost:8080/"
        },
        "id": "jGOBSaxVvj2G",
        "outputId": "7c9bc1ea-db0d-4e6c-a202-09d43c231534"
      },
      "outputs": [
        {
          "output_type": "execute_result",
          "data": {
            "text/plain": [
              "9236    one rule short story short lol remember wild c...\n",
              "280     perhaps surreal little story absolutely set ev...\n",
              "3771    nice newspaper good writing fun good buy know ...\n",
              "1371    herbert gift setting scene making people real ...\n",
              "2882    book thoroughly enjoyed beginning end story li...\n",
              "Name: Text, dtype: object"
            ]
          },
          "metadata": {},
          "execution_count": 30
        }
      ],
      "source": [
        "train['Text'].head()"
      ]
    },
    {
      "cell_type": "code",
      "execution_count": 31,
      "metadata": {
        "id": "7rp2T3rhwxw0"
      },
      "outputs": [],
      "source": [
        "y_train =train['rating'] \n",
        "X_train = train \n",
        "X_train.drop('rating', axis=1, inplace=True) \n",
        "y_test = test['rating'] \n",
        "X_test = test \n",
        "X_test.drop('rating', axis=1, inplace=True)"
      ]
    },
    {
      "cell_type": "code",
      "execution_count": 37,
      "metadata": {
        "colab": {
          "base_uri": "https://localhost:8080/",
          "height": 206
        },
        "id": "Trm9D9Fiwxo4",
        "outputId": "bca50396-707e-44b0-c905-55c54b4342e4"
      },
      "outputs": [
        {
          "output_type": "execute_result",
          "data": {
            "text/plain": [
              "       Unnamed: 0.1   ProductId  \\\n",
              "10870          3083  B001T4YZ16   \n",
              "7593          10730  B0032J0IJ4   \n",
              "9860           9629  B0030F2S70   \n",
              "10925         21022  B003U89RS0   \n",
              "1292          28955  B0044UHVBS   \n",
              "\n",
              "                                                    Text          UserId  \\\n",
              "10870  stopped reading read keep truckin al green edd...   A89L8O00O4XFH   \n",
              "7593   beginning thought sexy continued lacked real e...  A3CCG7X3TYUCCN   \n",
              "9860   still wasted precious time life review stated ...  A2F8Z0D1X2FBFP   \n",
              "10925  rare finish reading book even skip last chapte...  A1I6BG5XRGOUJJ   \n",
              "1292   found nonfiction section expected memoir novel...  A2NV8ECUE5QPAW   \n",
              "\n",
              "                      Summary        Time  label  word counts after preprocess  \n",
              "10870                too much  1391212800      0                         16968  \n",
              "7593                     Pass  1373241600      0                         19392  \n",
              "9860   Good thing it was free  1304035200      0                         27600  \n",
              "10925         Not A Good Read  1384819200      0                         36125  \n",
              "1292            A Lousy Novel  1396224000      0                         20069  "
            ],
            "text/html": [
              "\n",
              "  <div id=\"df-3cc4eaa6-47c3-49c4-a12f-b4ae5c172b0f\">\n",
              "    <div class=\"colab-df-container\">\n",
              "      <div>\n",
              "<style scoped>\n",
              "    .dataframe tbody tr th:only-of-type {\n",
              "        vertical-align: middle;\n",
              "    }\n",
              "\n",
              "    .dataframe tbody tr th {\n",
              "        vertical-align: top;\n",
              "    }\n",
              "\n",
              "    .dataframe thead th {\n",
              "        text-align: right;\n",
              "    }\n",
              "</style>\n",
              "<table border=\"1\" class=\"dataframe\">\n",
              "  <thead>\n",
              "    <tr style=\"text-align: right;\">\n",
              "      <th></th>\n",
              "      <th>Unnamed: 0.1</th>\n",
              "      <th>ProductId</th>\n",
              "      <th>Text</th>\n",
              "      <th>UserId</th>\n",
              "      <th>Summary</th>\n",
              "      <th>Time</th>\n",
              "      <th>label</th>\n",
              "      <th>word counts after preprocess</th>\n",
              "    </tr>\n",
              "  </thead>\n",
              "  <tbody>\n",
              "    <tr>\n",
              "      <th>10870</th>\n",
              "      <td>3083</td>\n",
              "      <td>B001T4YZ16</td>\n",
              "      <td>stopped reading read keep truckin al green edd...</td>\n",
              "      <td>A89L8O00O4XFH</td>\n",
              "      <td>too much</td>\n",
              "      <td>1391212800</td>\n",
              "      <td>0</td>\n",
              "      <td>16968</td>\n",
              "    </tr>\n",
              "    <tr>\n",
              "      <th>7593</th>\n",
              "      <td>10730</td>\n",
              "      <td>B0032J0IJ4</td>\n",
              "      <td>beginning thought sexy continued lacked real e...</td>\n",
              "      <td>A3CCG7X3TYUCCN</td>\n",
              "      <td>Pass</td>\n",
              "      <td>1373241600</td>\n",
              "      <td>0</td>\n",
              "      <td>19392</td>\n",
              "    </tr>\n",
              "    <tr>\n",
              "      <th>9860</th>\n",
              "      <td>9629</td>\n",
              "      <td>B0030F2S70</td>\n",
              "      <td>still wasted precious time life review stated ...</td>\n",
              "      <td>A2F8Z0D1X2FBFP</td>\n",
              "      <td>Good thing it was free</td>\n",
              "      <td>1304035200</td>\n",
              "      <td>0</td>\n",
              "      <td>27600</td>\n",
              "    </tr>\n",
              "    <tr>\n",
              "      <th>10925</th>\n",
              "      <td>21022</td>\n",
              "      <td>B003U89RS0</td>\n",
              "      <td>rare finish reading book even skip last chapte...</td>\n",
              "      <td>A1I6BG5XRGOUJJ</td>\n",
              "      <td>Not A Good Read</td>\n",
              "      <td>1384819200</td>\n",
              "      <td>0</td>\n",
              "      <td>36125</td>\n",
              "    </tr>\n",
              "    <tr>\n",
              "      <th>1292</th>\n",
              "      <td>28955</td>\n",
              "      <td>B0044UHVBS</td>\n",
              "      <td>found nonfiction section expected memoir novel...</td>\n",
              "      <td>A2NV8ECUE5QPAW</td>\n",
              "      <td>A Lousy Novel</td>\n",
              "      <td>1396224000</td>\n",
              "      <td>0</td>\n",
              "      <td>20069</td>\n",
              "    </tr>\n",
              "  </tbody>\n",
              "</table>\n",
              "</div>\n",
              "      <button class=\"colab-df-convert\" onclick=\"convertToInteractive('df-3cc4eaa6-47c3-49c4-a12f-b4ae5c172b0f')\"\n",
              "              title=\"Convert this dataframe to an interactive table.\"\n",
              "              style=\"display:none;\">\n",
              "        \n",
              "  <svg xmlns=\"http://www.w3.org/2000/svg\" height=\"24px\"viewBox=\"0 0 24 24\"\n",
              "       width=\"24px\">\n",
              "    <path d=\"M0 0h24v24H0V0z\" fill=\"none\"/>\n",
              "    <path d=\"M18.56 5.44l.94 2.06.94-2.06 2.06-.94-2.06-.94-.94-2.06-.94 2.06-2.06.94zm-11 1L8.5 8.5l.94-2.06 2.06-.94-2.06-.94L8.5 2.5l-.94 2.06-2.06.94zm10 10l.94 2.06.94-2.06 2.06-.94-2.06-.94-.94-2.06-.94 2.06-2.06.94z\"/><path d=\"M17.41 7.96l-1.37-1.37c-.4-.4-.92-.59-1.43-.59-.52 0-1.04.2-1.43.59L10.3 9.45l-7.72 7.72c-.78.78-.78 2.05 0 2.83L4 21.41c.39.39.9.59 1.41.59.51 0 1.02-.2 1.41-.59l7.78-7.78 2.81-2.81c.8-.78.8-2.07 0-2.86zM5.41 20L4 18.59l7.72-7.72 1.47 1.35L5.41 20z\"/>\n",
              "  </svg>\n",
              "      </button>\n",
              "      \n",
              "  <style>\n",
              "    .colab-df-container {\n",
              "      display:flex;\n",
              "      flex-wrap:wrap;\n",
              "      gap: 12px;\n",
              "    }\n",
              "\n",
              "    .colab-df-convert {\n",
              "      background-color: #E8F0FE;\n",
              "      border: none;\n",
              "      border-radius: 50%;\n",
              "      cursor: pointer;\n",
              "      display: none;\n",
              "      fill: #1967D2;\n",
              "      height: 32px;\n",
              "      padding: 0 0 0 0;\n",
              "      width: 32px;\n",
              "    }\n",
              "\n",
              "    .colab-df-convert:hover {\n",
              "      background-color: #E2EBFA;\n",
              "      box-shadow: 0px 1px 2px rgba(60, 64, 67, 0.3), 0px 1px 3px 1px rgba(60, 64, 67, 0.15);\n",
              "      fill: #174EA6;\n",
              "    }\n",
              "\n",
              "    [theme=dark] .colab-df-convert {\n",
              "      background-color: #3B4455;\n",
              "      fill: #D2E3FC;\n",
              "    }\n",
              "\n",
              "    [theme=dark] .colab-df-convert:hover {\n",
              "      background-color: #434B5C;\n",
              "      box-shadow: 0px 1px 3px 1px rgba(0, 0, 0, 0.15);\n",
              "      filter: drop-shadow(0px 1px 2px rgba(0, 0, 0, 0.3));\n",
              "      fill: #FFFFFF;\n",
              "    }\n",
              "  </style>\n",
              "\n",
              "      <script>\n",
              "        const buttonEl =\n",
              "          document.querySelector('#df-3cc4eaa6-47c3-49c4-a12f-b4ae5c172b0f button.colab-df-convert');\n",
              "        buttonEl.style.display =\n",
              "          google.colab.kernel.accessAllowed ? 'block' : 'none';\n",
              "\n",
              "        async function convertToInteractive(key) {\n",
              "          const element = document.querySelector('#df-3cc4eaa6-47c3-49c4-a12f-b4ae5c172b0f');\n",
              "          const dataTable =\n",
              "            await google.colab.kernel.invokeFunction('convertToInteractive',\n",
              "                                                     [key], {});\n",
              "          if (!dataTable) return;\n",
              "\n",
              "          const docLinkHtml = 'Like what you see? Visit the ' +\n",
              "            '<a target=\"_blank\" href=https://colab.research.google.com/notebooks/data_table.ipynb>data table notebook</a>'\n",
              "            + ' to learn more about interactive tables.';\n",
              "          element.innerHTML = '';\n",
              "          dataTable['output_type'] = 'display_data';\n",
              "          await google.colab.output.renderOutput(dataTable, element);\n",
              "          const docLink = document.createElement('div');\n",
              "          docLink.innerHTML = docLinkHtml;\n",
              "          element.appendChild(docLink);\n",
              "        }\n",
              "      </script>\n",
              "    </div>\n",
              "  </div>\n",
              "  "
            ]
          },
          "metadata": {},
          "execution_count": 37
        }
      ],
      "source": [
        "X_train.head()"
      ]
    },
    {
      "cell_type": "code",
      "execution_count": 38,
      "metadata": {
        "id": "PfxRgyMA7jqW"
      },
      "outputs": [],
      "source": [
        "# pip install tensorflow"
      ]
    },
    {
      "cell_type": "code",
      "execution_count": 32,
      "metadata": {
        "id": "d9z_8vI5wxga"
      },
      "outputs": [],
      "source": [
        "import tensorflow as tf \n",
        "from keras.preprocessing.text import Tokenizer\n",
        "from tensorflow.keras.preprocessing.text import Tokenizer\n",
        "tokenizer = Tokenizer (num_words = 10000) \n",
        "tokenizer.fit_on_texts(X_train[\"Text\"]) \n",
        "X_train['text_tok'] = tokenizer.texts_to_sequences(X_train['Text'].values) \n",
        "X_test['text_tok'] = tokenizer.texts_to_sequences(X_test['Text'].values)"
      ]
    },
    {
      "cell_type": "code",
      "execution_count": 40,
      "metadata": {
        "id": "S-VyWqXoPgds"
      },
      "outputs": [],
      "source": [
        "# print(\"TFIDF Vectorizer……\")\n",
        "# from sklearn.feature_extraction.text import TfidfVectorizer\n",
        "# vectorizer = TfidfVectorizer()\n",
        "# tf_x_train = vectorizer.fit_transform(X_train)\n",
        "# tf_x_test = vectorizer.transform(X_test)"
      ]
    },
    {
      "cell_type": "code",
      "execution_count": 33,
      "metadata": {
        "id": "ex0uiQgJATFV"
      },
      "outputs": [],
      "source": [
        "from tensorflow.keras.preprocessing import sequence\n",
        "max_review_length= 1500\n",
        "X_train_pad = sequence.pad_sequences(X_train['text_tok' ].values, maxlen=max_review_length , padding='post')\n",
        "X_test_pad  = sequence.pad_sequences(X_test['text_tok' ].values, maxlen=max_review_length , padding='post')"
      ]
    },
    {
      "cell_type": "code",
      "source": [
        "# !pip install gensim\n"
      ],
      "metadata": {
        "id": "D9kaaJh6rAEj"
      },
      "execution_count": 42,
      "outputs": []
    },
    {
      "cell_type": "code",
      "source": [
        "# import gensim.downloader as api"
      ],
      "metadata": {
        "id": "leKHYu9Hrfb5"
      },
      "execution_count": 43,
      "outputs": []
    },
    {
      "cell_type": "code",
      "source": [
        "# model = api.load(\"glove-wiki-gigaword-50\")"
      ],
      "metadata": {
        "id": "VzKDn5smrt7b"
      },
      "execution_count": 44,
      "outputs": []
    },
    {
      "cell_type": "markdown",
      "source": [
        "##Glove Model"
      ],
      "metadata": {
        "id": "6Gg2EFujZ52b"
      }
    },
    {
      "cell_type": "code",
      "source": [
        "!wget https://nlp.stanford.edu/data/wordvecs/glove.6B.zip"
      ],
      "metadata": {
        "id": "ZpgLpttqZ8DN",
        "outputId": "bd9f75d8-b9c3-42b1-c283-ca75eace7cb7",
        "colab": {
          "base_uri": "https://localhost:8080/"
        }
      },
      "execution_count": 34,
      "outputs": [
        {
          "output_type": "stream",
          "name": "stdout",
          "text": [
            "--2023-02-10 09:40:42--  https://nlp.stanford.edu/data/wordvecs/glove.6B.zip\n",
            "Resolving nlp.stanford.edu (nlp.stanford.edu)... 171.64.67.140\n",
            "Connecting to nlp.stanford.edu (nlp.stanford.edu)|171.64.67.140|:443... connected.\n",
            "HTTP request sent, awaiting response... 301 Moved Permanently\n",
            "Location: https://downloads.cs.stanford.edu/nlp/data/wordvecs/glove.6B.zip [following]\n",
            "--2023-02-10 09:40:42--  https://downloads.cs.stanford.edu/nlp/data/wordvecs/glove.6B.zip\n",
            "Resolving downloads.cs.stanford.edu (downloads.cs.stanford.edu)... 171.64.64.22\n",
            "Connecting to downloads.cs.stanford.edu (downloads.cs.stanford.edu)|171.64.64.22|:443... connected.\n",
            "HTTP request sent, awaiting response... 200 OK\n",
            "Length: 862182753 (822M) [application/zip]\n",
            "Saving to: ‘glove.6B.zip’\n",
            "\n",
            "glove.6B.zip        100%[===================>] 822.24M  5.02MB/s    in 2m 39s  \n",
            "\n",
            "2023-02-10 09:43:22 (5.16 MB/s) - ‘glove.6B.zip’ saved [862182753/862182753]\n",
            "\n"
          ]
        }
      ]
    },
    {
      "cell_type": "code",
      "source": [
        "!unzip /content/glove.6B.zip"
      ],
      "metadata": {
        "id": "S9geWs5bd0-x",
        "outputId": "717592e0-4cee-4214-8717-ec2fa1cbeb87",
        "colab": {
          "base_uri": "https://localhost:8080/"
        }
      },
      "execution_count": 35,
      "outputs": [
        {
          "output_type": "stream",
          "name": "stdout",
          "text": [
            "Archive:  /content/glove.6B.zip\n",
            "  inflating: glove.6B.100d.txt       \n",
            "  inflating: glove.6B.200d.txt       \n",
            "  inflating: glove.6B.300d.txt       \n",
            "  inflating: glove.6B.50d.txt        \n"
          ]
        }
      ]
    },
    {
      "cell_type": "code",
      "source": [
        "fastText_file = open('/content/glove.6B.300d.txt', encoding=\"utf8\")\n",
        "embeddings_index = dict()\n",
        "for line in fastText_file:\n",
        "    val = line.split(' ')\n",
        "    word = val[0]\n",
        "    coefs = np.asarray(val[1:], dtype='float32')\n",
        "    embeddings_index[word] = coefs\n",
        "fastText_file.close()\n",
        "\n",
        "print('Loaded %s word vectors.' % len(embeddings_index))\n"
      ],
      "metadata": {
        "colab": {
          "base_uri": "https://localhost:8080/"
        },
        "id": "K52wv0Y3LSWS",
        "outputId": "8027d77c-023a-49aa-ad45-183b270cc65a"
      },
      "execution_count": 37,
      "outputs": [
        {
          "output_type": "stream",
          "name": "stdout",
          "text": [
            "Loaded 400001 word vectors.\n"
          ]
        }
      ]
    },
    {
      "cell_type": "code",
      "metadata": {
        "id": "GrtLyPSOejgo"
      },
      "source": [
        "# create a weight matrix\n",
        "max_vocabulary = len(tokenizer.word_index)\n",
        "embedding_matrix = np.zeros((len(tokenizer.word_index)+1, 300))\n",
        "\n",
        "for word, i in tokenizer.word_index.items():\n",
        "    embedding_vector = embeddings_index.get(word)\n",
        "    if embedding_vector is not None:\n",
        "        embedding_matrix[i] = embedding_vector"
      ],
      "execution_count": 39,
      "outputs": []
    },
    {
      "cell_type": "code",
      "execution_count": 40,
      "metadata": {
        "id": "nacTZoP5FjQO"
      },
      "outputs": [],
      "source": [
        "from tensorflow.python.keras.utils import np_utils\n",
        "X_train = X_train_pad\n",
        "X_test = X_test_pad\n",
        "Y_train = train['label'] \n",
        "Y_test = test['label'] "
      ]
    },
    {
      "cell_type": "code",
      "execution_count": 41,
      "metadata": {
        "colab": {
          "base_uri": "https://localhost:8080/"
        },
        "id": "GBfeiD_UHbc4",
        "outputId": "d03d971a-9b05-4d60-d73e-74e8053dccb5"
      },
      "outputs": [
        {
          "output_type": "execute_result",
          "data": {
            "text/plain": [
              "array([[ 334, 2957,   70, ...,    4, 1141,   25],\n",
              "       [ 404,   31,    2, ...,    0,    0,    0],\n",
              "       [ 284, 1027,   14, ...,    0,    0,    0],\n",
              "       ...,\n",
              "       [ 378,    2,    6, ...,    0,    0,    0],\n",
              "       [ 110,    9,  133, ...,    0,    0,    0],\n",
              "       [   5,   57,  119, ...,  453, 1314, 1200]], dtype=int32)"
            ]
          },
          "metadata": {},
          "execution_count": 41
        }
      ],
      "source": [
        "X_train"
      ]
    },
    {
      "cell_type": "code",
      "source": [
        "Y_train"
      ],
      "metadata": {
        "id": "sa_S2PWXjFCD",
        "outputId": "c8f32d95-c04a-4a8b-e880-b7688c9acbef",
        "colab": {
          "base_uri": "https://localhost:8080/"
        }
      },
      "execution_count": 53,
      "outputs": [
        {
          "output_type": "execute_result",
          "data": {
            "text/plain": [
              "10870    0\n",
              "7593     0\n",
              "9860     0\n",
              "10925    0\n",
              "1292     0\n",
              "        ..\n",
              "11905    1\n",
              "11191    1\n",
              "11190    1\n",
              "9197     1\n",
              "11333    0\n",
              "Name: label, Length: 5600, dtype: int64"
            ]
          },
          "metadata": {},
          "execution_count": 53
        }
      ]
    },
    {
      "cell_type": "markdown",
      "source": [
        "### LSTM Model"
      ],
      "metadata": {
        "id": "O6Xqrk4B29El"
      }
    },
    {
      "cell_type": "code",
      "execution_count": 55,
      "metadata": {
        "id": "z4M-7pvgHXYt"
      },
      "outputs": [],
      "source": [
        "from tensorflow.keras import Sequential \n",
        "from tensorflow.keras.layers import Flatten, Dense, Dropout,Conv1D,LSTM,Input,concatenate,BatchNormalization,Bidirectional \n",
        "from tensorflow.keras.layers import Embedding\n",
        "from tensorflow.keras.models import Model,load_model\n",
        "from tensorflow.keras.regularizers import l2"
      ]
    },
    {
      "cell_type": "code",
      "execution_count": 56,
      "metadata": {
        "id": "320cZ57YJUtC",
        "outputId": "1e15fe15-be6e-4afd-c5e0-fe69471aaac1",
        "colab": {
          "base_uri": "https://localhost:8080/"
        }
      },
      "outputs": [
        {
          "output_type": "stream",
          "name": "stdout",
          "text": [
            "Model: \"model_3\"\n",
            "_________________________________________________________________\n",
            " Layer (type)                Output Shape              Param #   \n",
            "=================================================================\n",
            " revin_Input (InputLayer)    [(None, 1500)]            0         \n",
            "                                                                 \n",
            " embedding_3 (Embedding)     (None, 1500, 300)         7500900   \n",
            "                                                                 \n",
            " bidirectional_3 (Bidirectio  (None, 160)              243840    \n",
            " nal)                                                            \n",
            "                                                                 \n",
            " dropout_3 (Dropout)         (None, 160)               0         \n",
            "                                                                 \n",
            " flatten_3 (Flatten)         (None, 160)               0         \n",
            "                                                                 \n",
            " dense_9 (Dense)             (None, 128)               20608     \n",
            "                                                                 \n",
            " dense_10 (Dense)            (None, 32)                4128      \n",
            "                                                                 \n",
            " dense_11 (Dense)            (None, 32)                1056      \n",
            "                                                                 \n",
            " output (Dense)              (None, 1)                 33        \n",
            "                                                                 \n",
            "=================================================================\n",
            "Total params: 7,770,565\n",
            "Trainable params: 269,665\n",
            "Non-trainable params: 7,500,900\n",
            "_________________________________________________________________\n",
            "None\n"
          ]
        }
      ],
      "source": [
        "review = Input(shape = (1500), name='revin_Input')\n",
        "X = Embedding(output_dim = 300, input_dim = max_vocabulary+1, input_length=1460, weights=[embedding_matrix], trainable=False)(review) \n",
        "lstm_review = Bidirectional(LSTM(80,kernel_regularizer=l2(0.01), recurrent_regularizer=l2(0.01), bias_regularizer=l2(0.01)))(X)\n",
        "\n",
        "model = Dropout (0.1)(lstm_review) \n",
        "model = Flatten()(model) \n",
        "model = Dense(128, activation =\"relu\")(model)\n",
        "model = Dense(32, activation=\"relu\") (model)\n",
        "model = Dense(32, activation=\"relu\") (model)\n",
        "output= Dense(1, activation = 'sigmoid', name='output')(model)\n",
        "model = Model(inputs=[review] , outputs = [output]) \n",
        "print(model.summary())"
      ]
    },
    {
      "cell_type": "code",
      "execution_count": 57,
      "metadata": {
        "id": "YluwJH0sJtd6"
      },
      "outputs": [],
      "source": [
        "from keras.optimizers import Adam\n",
        "model.compile(loss='binary_crossentropy', optimizer=Adam(0.001), metrics=['accuracy'])"
      ]
    },
    {
      "cell_type": "code",
      "source": [
        "history = model.fit(X_train, Y_train, batch_size=128, epochs=15, validation_split=0.2)"
      ],
      "metadata": {
        "id": "AnmgM8UqgA9q",
        "colab": {
          "base_uri": "https://localhost:8080/"
        },
        "outputId": "d6357fcc-01ac-4fff-ce59-3aa9fbe82cf7"
      },
      "execution_count": 58,
      "outputs": [
        {
          "output_type": "stream",
          "name": "stdout",
          "text": [
            "Epoch 1/15\n",
            "35/35 [==============================] - 384s 10s/step - loss: 6.9756 - accuracy: 0.5926 - val_loss: 4.5241 - val_accuracy: 0.6955\n",
            "Epoch 2/15\n",
            "35/35 [==============================] - 335s 10s/step - loss: 3.4028 - accuracy: 0.7527 - val_loss: 2.5889 - val_accuracy: 0.7902\n",
            "Epoch 3/15\n",
            "35/35 [==============================] - 333s 10s/step - loss: 2.2628 - accuracy: 0.8020 - val_loss: 2.0198 - val_accuracy: 0.8009\n",
            "Epoch 4/15\n",
            "35/35 [==============================] - 332s 9s/step - loss: 1.8881 - accuracy: 0.8112 - val_loss: 1.8445 - val_accuracy: 0.7705\n",
            "Epoch 5/15\n",
            "35/35 [==============================] - 333s 9s/step - loss: 1.7190 - accuracy: 0.8208 - val_loss: 1.6396 - val_accuracy: 0.8188\n",
            "Epoch 6/15\n",
            "35/35 [==============================] - 328s 9s/step - loss: 1.5751 - accuracy: 0.8362 - val_loss: 1.5345 - val_accuracy: 0.8134\n",
            "Epoch 7/15\n",
            "35/35 [==============================] - 330s 9s/step - loss: 1.4875 - accuracy: 0.8275 - val_loss: 1.4752 - val_accuracy: 0.7937\n",
            "Epoch 8/15\n",
            "35/35 [==============================] - 333s 10s/step - loss: 1.4209 - accuracy: 0.8196 - val_loss: 1.3658 - val_accuracy: 0.8223\n",
            "Epoch 9/15\n",
            "35/35 [==============================] - 331s 9s/step - loss: 1.3135 - accuracy: 0.8330 - val_loss: 1.3023 - val_accuracy: 0.8161\n",
            "Epoch 10/15\n",
            "35/35 [==============================] - 331s 9s/step - loss: 1.2343 - accuracy: 0.8424 - val_loss: 1.2364 - val_accuracy: 0.8107\n",
            "Epoch 11/15\n",
            "35/35 [==============================] - 334s 10s/step - loss: 1.1732 - accuracy: 0.8406 - val_loss: 1.2080 - val_accuracy: 0.8062\n",
            "Epoch 12/15\n",
            "35/35 [==============================] - 337s 10s/step - loss: 1.1137 - accuracy: 0.8426 - val_loss: 1.1408 - val_accuracy: 0.7955\n",
            "Epoch 13/15\n",
            "35/35 [==============================] - 331s 10s/step - loss: 1.0686 - accuracy: 0.8364 - val_loss: 1.1087 - val_accuracy: 0.7804\n",
            "Epoch 14/15\n",
            "35/35 [==============================] - 335s 10s/step - loss: 0.9981 - accuracy: 0.8446 - val_loss: 1.0377 - val_accuracy: 0.7955\n",
            "Epoch 15/15\n",
            "35/35 [==============================] - 335s 10s/step - loss: 0.9545 - accuracy: 0.8400 - val_loss: 0.9934 - val_accuracy: 0.7973\n"
          ]
        }
      ]
    },
    {
      "cell_type": "code",
      "metadata": {
        "id": "ATrgpBBTejhf",
        "outputId": "6122b894-4d43-41bc-8f42-fc63f9ca4a95",
        "colab": {
          "base_uri": "https://localhost:8080/"
        }
      },
      "source": [
        "#Predicting......\n",
        "print('Predicting....')\n",
        "y_pred = model.predict(X_test)\n",
        "classes_x=np.argmax(y_pred,axis=1) "
      ],
      "execution_count": 72,
      "outputs": [
        {
          "output_type": "stream",
          "name": "stdout",
          "text": [
            "Predicting....\n",
            "75/75 [==============================] - 144s 2s/step\n"
          ]
        }
      ]
    },
    {
      "cell_type": "code",
      "source": [
        "def plot_learningCurve(history, epochs): # Plot training & validation accuracy values \n",
        " epoch_range = range(1, epochs+1) \n",
        " plt.plot(epoch_range, history.history['accuracy'])\n",
        " plt.plot(epoch_range, history.history['val_accuracy']) \n",
        " plt.title('Model accuracy') \n",
        " plt.ylabel('Accuracy') \n",
        " plt.xlabel('Epoch')\n",
        " plt.legend(['Train', 'Val'], loc='upper left')  \n",
        " plt.show() \n",
        "# Plot training & validation loss values\n",
        " plt.plot(epoch_range, history.history['loss'])\n",
        " plt.plot(epoch_range, history.history['val_loss']) \n",
        " plt.title('Model loss') \n",
        " plt.ylabel('Loss') \n",
        " plt.xlabel('Epoch')  \n",
        " plt.legend(['Train', 'Val'], loc='upper left') \n",
        " plt.show() "
      ],
      "metadata": {
        "id": "zTM9rKDrkH5m"
      },
      "execution_count": 60,
      "outputs": []
    },
    {
      "cell_type": "code",
      "source": [
        " plot_learningCurve (history, 15)"
      ],
      "metadata": {
        "colab": {
          "base_uri": "https://localhost:8080/",
          "height": 574
        },
        "id": "OLmogJSzxAnW",
        "outputId": "2e97f322-4057-4a7e-93b3-146a9a8d6acc"
      },
      "execution_count": 61,
      "outputs": [
        {
          "output_type": "display_data",
          "data": {
            "text/plain": [
              "<Figure size 432x288 with 1 Axes>"
            ],
            "image/png": "[encoded data removed]"
          },
          "metadata": {
            "needs_background": "light"
          }
        },
        {
          "output_type": "display_data",
          "data": {
            "text/plain": [
              "<Figure size 432x288 with 1 Axes>"
            ],
            "image/png": "[encoded data removed]"
          },
          "metadata": {
            "needs_background": "light"
          }
        }
      ]
    },
    {
      "cell_type": "code",
      "source": [
        "# from sklearn.metrics import confusion_matrix\n",
        "# import seaborn as sns\n",
        "# cn =  confusion_matrix(Y_test,classes_x)\n",
        "# print(\" The confusion_matrix \")\n",
        "# sns.heatmap(cn, annot=True, square =True ,  cmap=\"Blues\", fmt='d')"
      ],
      "metadata": {
        "id": "SpNy5ZyevbZ_"
      },
      "execution_count": 74,
      "outputs": []
    }
  ],
  "metadata": {
    "colab": {
      "provenance": []
    },
    "gpuClass": "standard",
    "kernelspec": {
      "display_name": "Python 3",
      "name": "python3"
    },
    "language_info": {
      "name": "python"
    }
  },
  "nbformat": 4,
  "nbformat_minor": 0
}